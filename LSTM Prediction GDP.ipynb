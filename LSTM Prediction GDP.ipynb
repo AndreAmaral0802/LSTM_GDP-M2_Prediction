{
 "cells": [
  {
   "cell_type": "markdown",
   "id": "f789a121",
   "metadata": {},
   "source": [
    "# Prediction of US nominal GDP with LSTM"
   ]
  },
  {
   "cell_type": "markdown",
   "id": "f9cda88b",
   "metadata": {},
   "source": [
    "### - Data cleaning and preparation\n",
    "### - Data analysis for each variable\n",
    "### - Inferencial Statistics and model deployment "
   ]
  },
  {
   "cell_type": "code",
   "execution_count": 368,
   "id": "04d32ae1",
   "metadata": {
    "scrolled": true
   },
   "outputs": [],
   "source": [
    "# Libraries\n",
    "\n",
    "import pandas as pd\n",
    "import numpy as np\n",
    "import matplotlib.pyplot as plt\n",
    "import seaborn as sns"
   ]
  },
  {
   "cell_type": "code",
   "execution_count": 369,
   "id": "d7f30836",
   "metadata": {
    "scrolled": true
   },
   "outputs": [
    {
     "data": {
      "text/html": [
       "<div>\n",
       "<style scoped>\n",
       "    .dataframe tbody tr th:only-of-type {\n",
       "        vertical-align: middle;\n",
       "    }\n",
       "\n",
       "    .dataframe tbody tr th {\n",
       "        vertical-align: top;\n",
       "    }\n",
       "\n",
       "    .dataframe thead th {\n",
       "        text-align: right;\n",
       "    }\n",
       "</style>\n",
       "<table border=\"1\" class=\"dataframe\">\n",
       "  <thead>\n",
       "    <tr style=\"text-align: right;\">\n",
       "      <th></th>\n",
       "      <th>DATE</th>\n",
       "      <th>GDP</th>\n",
       "      <th>M2</th>\n",
       "      <th>CPI</th>\n",
       "      <th>Interest_rate</th>\n",
       "      <th>Unemp_rate</th>\n",
       "    </tr>\n",
       "  </thead>\n",
       "  <tbody>\n",
       "    <tr>\n",
       "      <th>0</th>\n",
       "      <td>1959-01-04</td>\n",
       "      <td>2.4</td>\n",
       "      <td>1.2</td>\n",
       "      <td>-0.1</td>\n",
       "      <td>3.0</td>\n",
       "      <td>5.2</td>\n",
       "    </tr>\n",
       "    <tr>\n",
       "      <th>1</th>\n",
       "      <td>1959-01-07</td>\n",
       "      <td>0.5</td>\n",
       "      <td>1.8</td>\n",
       "      <td>0.6</td>\n",
       "      <td>3.5</td>\n",
       "      <td>5.1</td>\n",
       "    </tr>\n",
       "    <tr>\n",
       "      <th>2</th>\n",
       "      <td>1959-01-10</td>\n",
       "      <td>0.7</td>\n",
       "      <td>0.4</td>\n",
       "      <td>0.7</td>\n",
       "      <td>4.0</td>\n",
       "      <td>5.7</td>\n",
       "    </tr>\n",
       "    <tr>\n",
       "      <th>3</th>\n",
       "      <td>1960-01-01</td>\n",
       "      <td>2.7</td>\n",
       "      <td>0.6</td>\n",
       "      <td>0.1</td>\n",
       "      <td>4.0</td>\n",
       "      <td>5.2</td>\n",
       "    </tr>\n",
       "    <tr>\n",
       "      <th>4</th>\n",
       "      <td>1960-01-04</td>\n",
       "      <td>-0.3</td>\n",
       "      <td>0.6</td>\n",
       "      <td>0.6</td>\n",
       "      <td>4.0</td>\n",
       "      <td>5.2</td>\n",
       "    </tr>\n",
       "    <tr>\n",
       "      <th>...</th>\n",
       "      <td>...</td>\n",
       "      <td>...</td>\n",
       "      <td>...</td>\n",
       "      <td>...</td>\n",
       "      <td>...</td>\n",
       "      <td>...</td>\n",
       "    </tr>\n",
       "    <tr>\n",
       "      <th>242</th>\n",
       "      <td>2019-01-10</td>\n",
       "      <td>1.0</td>\n",
       "      <td>1.9</td>\n",
       "      <td>0.6</td>\n",
       "      <td>2.3</td>\n",
       "      <td>3.7</td>\n",
       "    </tr>\n",
       "    <tr>\n",
       "      <th>243</th>\n",
       "      <td>2020-01-01</td>\n",
       "      <td>-0.9</td>\n",
       "      <td>1.7</td>\n",
       "      <td>0.5</td>\n",
       "      <td>2.3</td>\n",
       "      <td>3.6</td>\n",
       "    </tr>\n",
       "    <tr>\n",
       "      <th>244</th>\n",
       "      <td>2020-01-04</td>\n",
       "      <td>-9.5</td>\n",
       "      <td>10.5</td>\n",
       "      <td>-1.0</td>\n",
       "      <td>0.3</td>\n",
       "      <td>3.6</td>\n",
       "    </tr>\n",
       "    <tr>\n",
       "      <th>245</th>\n",
       "      <td>2020-01-07</td>\n",
       "      <td>8.5</td>\n",
       "      <td>7.6</td>\n",
       "      <td>0.9</td>\n",
       "      <td>0.3</td>\n",
       "      <td>3.5</td>\n",
       "    </tr>\n",
       "    <tr>\n",
       "      <th>246</th>\n",
       "      <td>2020-01-10</td>\n",
       "      <td>1.5</td>\n",
       "      <td>2.3</td>\n",
       "      <td>0.7</td>\n",
       "      <td>0.3</td>\n",
       "      <td>14.8</td>\n",
       "    </tr>\n",
       "  </tbody>\n",
       "</table>\n",
       "<p>247 rows × 6 columns</p>\n",
       "</div>"
      ],
      "text/plain": [
       "          DATE  GDP    M2  CPI  Interest_rate  Unemp_rate\n",
       "0   1959-01-04  2.4   1.2 -0.1            3.0         5.2\n",
       "1   1959-01-07  0.5   1.8  0.6            3.5         5.1\n",
       "2   1959-01-10  0.7   0.4  0.7            4.0         5.7\n",
       "3   1960-01-01  2.7   0.6  0.1            4.0         5.2\n",
       "4   1960-01-04 -0.3   0.6  0.6            4.0         5.2\n",
       "..         ...  ...   ...  ...            ...         ...\n",
       "242 2019-01-10  1.0   1.9  0.6            2.3         3.7\n",
       "243 2020-01-01 -0.9   1.7  0.5            2.3         3.6\n",
       "244 2020-01-04 -9.5  10.5 -1.0            0.3         3.6\n",
       "245 2020-01-07  8.5   7.6  0.9            0.3         3.5\n",
       "246 2020-01-10  1.5   2.3  0.7            0.3        14.8\n",
       "\n",
       "[247 rows x 6 columns]"
      ]
     },
     "execution_count": 369,
     "metadata": {},
     "output_type": "execute_result"
    }
   ],
   "source": [
    "data = pd.read_csv('C:/Andre files/US_dataset/US_data_final.csv', parse_dates=[\"DATE\"])\n",
    "data"
   ]
  },
  {
   "cell_type": "code",
   "execution_count": 370,
   "id": "6236eec5",
   "metadata": {},
   "outputs": [
    {
     "name": "stdout",
     "output_type": "stream",
     "text": [
      "<class 'pandas.core.frame.DataFrame'>\n",
      "RangeIndex: 247 entries, 0 to 246\n",
      "Data columns (total 6 columns):\n",
      " #   Column         Non-Null Count  Dtype         \n",
      "---  ------         --------------  -----         \n",
      " 0   DATE           247 non-null    datetime64[ns]\n",
      " 1   GDP            247 non-null    float64       \n",
      " 2   M2             247 non-null    float64       \n",
      " 3   CPI            247 non-null    float64       \n",
      " 4   Interest_rate  247 non-null    float64       \n",
      " 5   Unemp_rate     247 non-null    float64       \n",
      "dtypes: datetime64[ns](1), float64(5)\n",
      "memory usage: 11.7 KB\n"
     ]
    }
   ],
   "source": [
    "# Get more information about this dataset\n",
    "data.info()"
   ]
  },
  {
   "cell_type": "code",
   "execution_count": 371,
   "id": "de8813b6",
   "metadata": {},
   "outputs": [
    {
     "data": {
      "text/plain": [
       "DATE             0\n",
       "GDP              0\n",
       "M2               0\n",
       "CPI              0\n",
       "Interest_rate    0\n",
       "Unemp_rate       0\n",
       "dtype: int64"
      ]
     },
     "execution_count": 371,
     "metadata": {},
     "output_type": "execute_result"
    }
   ],
   "source": [
    "# Is there any missing values\n",
    "\n",
    "data.isna().sum().sort_values(ascending=False)\n",
    "\n",
    "#There are no missing values"
   ]
  },
  {
   "cell_type": "code",
   "execution_count": 372,
   "id": "2c9b1e9d",
   "metadata": {},
   "outputs": [
    {
     "data": {
      "text/plain": [
       "Index(['DATE', 'GDP', 'M2', 'CPI', 'Interest_rate', 'Unemp_rate'], dtype='object')"
      ]
     },
     "execution_count": 372,
     "metadata": {},
     "output_type": "execute_result"
    }
   ],
   "source": [
    "data.columns"
   ]
  },
  {
   "cell_type": "markdown",
   "id": "35b942af",
   "metadata": {},
   "source": [
    "## Date"
   ]
  },
  {
   "cell_type": "code",
   "execution_count": 373,
   "id": "e870a120",
   "metadata": {},
   "outputs": [
    {
     "data": {
      "text/plain": [
       "0     1959-01-04\n",
       "1     1959-01-07\n",
       "2     1959-01-10\n",
       "3     1960-01-01\n",
       "4     1960-01-04\n",
       "         ...    \n",
       "242   2019-01-10\n",
       "243   2020-01-01\n",
       "244   2020-01-04\n",
       "245   2020-01-07\n",
       "246   2020-01-10\n",
       "Name: DATE, Length: 247, dtype: datetime64[ns]"
      ]
     },
     "execution_count": 373,
     "metadata": {},
     "output_type": "execute_result"
    }
   ],
   "source": [
    "data.DATE"
   ]
  },
  {
   "cell_type": "code",
   "execution_count": 374,
   "id": "e93a3fa5",
   "metadata": {},
   "outputs": [
    {
     "data": {
      "text/plain": [
       "pandas._libs.tslibs.timestamps.Timestamp"
      ]
     },
     "execution_count": 374,
     "metadata": {},
     "output_type": "execute_result"
    }
   ],
   "source": [
    "type(data.DATE[0])"
   ]
  },
  {
   "cell_type": "code",
   "execution_count": 375,
   "id": "c7d04ee0",
   "metadata": {},
   "outputs": [
    {
     "name": "stderr",
     "output_type": "stream",
     "text": [
      "C:\\Users\\andre\\AppData\\Local\\Temp\\ipykernel_19224\\758323629.py:1: FutureWarning: Treating datetime data as categorical rather than numeric in `.describe` is deprecated and will be removed in a future version of pandas. Specify `datetime_is_numeric=True` to silence this warning and adopt the future behavior now.\n",
      "  data.DATE.describe()\n"
     ]
    },
    {
     "data": {
      "text/plain": [
       "count                     247\n",
       "unique                    247\n",
       "top       1959-01-04 00:00:00\n",
       "freq                        1\n",
       "first     1959-01-04 00:00:00\n",
       "last      2020-01-10 00:00:00\n",
       "Name: DATE, dtype: object"
      ]
     },
     "execution_count": 375,
     "metadata": {},
     "output_type": "execute_result"
    }
   ],
   "source": [
    "data.DATE.describe()"
   ]
  },
  {
   "cell_type": "code",
   "execution_count": 376,
   "id": "941724d9",
   "metadata": {},
   "outputs": [
    {
     "data": {
      "text/plain": [
       "<bound method NDFrame.astype of 0     1959-01-04\n",
       "1     1959-01-07\n",
       "2     1959-01-10\n",
       "3     1960-01-01\n",
       "4     1960-01-04\n",
       "         ...    \n",
       "242   2019-01-10\n",
       "243   2020-01-01\n",
       "244   2020-01-04\n",
       "245   2020-01-07\n",
       "246   2020-01-10\n",
       "Name: DATE, Length: 247, dtype: datetime64[ns]>"
      ]
     },
     "execution_count": 376,
     "metadata": {},
     "output_type": "execute_result"
    }
   ],
   "source": [
    "data.DATE.astype"
   ]
  },
  {
   "cell_type": "code",
   "execution_count": 377,
   "id": "e2fbb948",
   "metadata": {},
   "outputs": [],
   "source": [
    "# The data is quarterly for all variables, therefore, this is a time series dataset"
   ]
  },
  {
   "cell_type": "markdown",
   "id": "17412f82",
   "metadata": {},
   "source": [
    "## Gross Domestic Product"
   ]
  },
  {
   "cell_type": "code",
   "execution_count": 378,
   "id": "4080643a",
   "metadata": {},
   "outputs": [
    {
     "data": {
      "text/plain": [
       "0      2.4\n",
       "1      0.5\n",
       "2      0.7\n",
       "3      2.7\n",
       "4     -0.3\n",
       "      ... \n",
       "242    1.0\n",
       "243   -0.9\n",
       "244   -9.5\n",
       "245    8.5\n",
       "246    1.5\n",
       "Name: GDP, Length: 247, dtype: float64"
      ]
     },
     "execution_count": 378,
     "metadata": {},
     "output_type": "execute_result"
    }
   ],
   "source": [
    "data.GDP"
   ]
  },
  {
   "cell_type": "code",
   "execution_count": 379,
   "id": "e03875cb",
   "metadata": {},
   "outputs": [
    {
     "data": {
      "text/plain": [
       "count    247.000000\n",
       "mean       1.531984\n",
       "std        1.268341\n",
       "min       -9.500000\n",
       "25%        1.000000\n",
       "50%        1.400000\n",
       "75%        2.000000\n",
       "max        8.500000\n",
       "Name: GDP, dtype: float64"
      ]
     },
     "execution_count": 379,
     "metadata": {},
     "output_type": "execute_result"
    }
   ],
   "source": [
    "data.GDP.describe()"
   ]
  },
  {
   "cell_type": "code",
   "execution_count": 380,
   "id": "8989031d",
   "metadata": {},
   "outputs": [],
   "source": [
    "# the average GDP is 7.5b "
   ]
  },
  {
   "cell_type": "code",
   "execution_count": 381,
   "id": "ab26a58c",
   "metadata": {},
   "outputs": [
    {
     "data": {
      "image/png": "[encoded data removed]",
      "text/plain": [
       "<Figure size 1008x432 with 1 Axes>"
      ]
     },
     "metadata": {
      "needs_background": "light"
     },
     "output_type": "display_data"
    }
   ],
   "source": [
    "from matplotlib import rcParams\n",
    "rcParams['figure.figsize'] = 14,6\n",
    "plt.plot(data.DATE, data.GDP, label='GDP')\n",
    "plt.legend(loc=2)\n",
    "plt.xlabel('Date')\n",
    "plt.title('US GDP')\n",
    "plt.grid(True, linestyle=':')\n",
    "plt.show()"
   ]
  },
  {
   "cell_type": "code",
   "execution_count": 382,
   "id": "75cb4e21",
   "metadata": {},
   "outputs": [
    {
     "name": "stderr",
     "output_type": "stream",
     "text": [
      "C:\\Users\\andre\\anaconda3\\lib\\site-packages\\seaborn\\distributions.py:2619: FutureWarning: `distplot` is a deprecated function and will be removed in a future version. Please adapt your code to use either `displot` (a figure-level function with similar flexibility) or `histplot` (an axes-level function for histograms).\n",
      "  warnings.warn(msg, FutureWarning)\n"
     ]
    },
    {
     "data": {
      "text/plain": [
       "<AxesSubplot:xlabel='GDP', ylabel='Density'>"
      ]
     },
     "execution_count": 382,
     "metadata": {},
     "output_type": "execute_result"
    },
    {
     "data": {
      "image/png": "[encoded data removed]",
      "text/plain": [
       "<Figure size 1008x432 with 1 Axes>"
      ]
     },
     "metadata": {
      "needs_background": "light"
     },
     "output_type": "display_data"
    }
   ],
   "source": [
    "sns.distplot(data.GDP)"
   ]
  },
  {
   "cell_type": "code",
   "execution_count": 383,
   "id": "a10cb034",
   "metadata": {},
   "outputs": [],
   "source": [
    "from scipy import stats\n",
    "import scipy as scipy "
   ]
  },
  {
   "cell_type": "code",
   "execution_count": 384,
   "id": "84e8128a",
   "metadata": {},
   "outputs": [
    {
     "data": {
      "text/plain": [
       "ShapiroResult(statistic=0.7771012783050537, pvalue=4.852035091673228e-18)"
      ]
     },
     "execution_count": 384,
     "metadata": {},
     "output_type": "execute_result"
    }
   ],
   "source": [
    "# Shapiro Wilk Test\n",
    "stats.shapiro(data.GDP)\n",
    "\n",
    "# Running this command we can observe 2 values (test statistics and p-value)\n",
    "\n",
    "# H0 is that the data is normal\n",
    "# HI data is not normal "
   ]
  },
  {
   "cell_type": "code",
   "execution_count": 385,
   "id": "c09a7f9e",
   "metadata": {},
   "outputs": [],
   "source": [
    "# According to the graph we can see that nominal GDP has grown gradually since 1959 up to 2020\n",
    "# We can also see that the data is skewed to the right, which means that most data falls to the right/positive side of the graph"
   ]
  },
  {
   "cell_type": "markdown",
   "id": "4917d0cb",
   "metadata": {},
   "source": [
    "## Money Supply - M2"
   ]
  },
  {
   "cell_type": "code",
   "execution_count": 386,
   "id": "301d940d",
   "metadata": {},
   "outputs": [
    {
     "data": {
      "text/plain": [
       "0       1.2\n",
       "1       1.8\n",
       "2       0.4\n",
       "3       0.6\n",
       "4       0.6\n",
       "       ... \n",
       "242     1.9\n",
       "243     1.7\n",
       "244    10.5\n",
       "245     7.6\n",
       "246     2.3\n",
       "Name: M2, Length: 247, dtype: float64"
      ]
     },
     "execution_count": 386,
     "metadata": {},
     "output_type": "execute_result"
    }
   ],
   "source": [
    "data.M2"
   ]
  },
  {
   "cell_type": "code",
   "execution_count": 387,
   "id": "397b70b7",
   "metadata": {},
   "outputs": [
    {
     "data": {
      "text/plain": [
       "count    247.000000\n",
       "mean       1.713765\n",
       "std        1.090262\n",
       "min       -0.200000\n",
       "25%        1.100000\n",
       "50%        1.600000\n",
       "75%        2.150000\n",
       "max       10.500000\n",
       "Name: M2, dtype: float64"
      ]
     },
     "execution_count": 387,
     "metadata": {},
     "output_type": "execute_result"
    }
   ],
   "source": [
    "data.M2.describe()"
   ]
  },
  {
   "cell_type": "code",
   "execution_count": 388,
   "id": "d49d8be9",
   "metadata": {},
   "outputs": [
    {
     "data": {
      "image/png": "[encoded data removed]",
      "text/plain": [
       "<Figure size 1008x432 with 1 Axes>"
      ]
     },
     "metadata": {
      "needs_background": "light"
     },
     "output_type": "display_data"
    }
   ],
   "source": [
    "rcParams['figure.figsize'] = 14,6\n",
    "plt.plot(data.DATE, data.M2, label='M2')\n",
    "plt.legend(loc=2)\n",
    "plt.xlabel('Date')\n",
    "plt.title('Money Supply')\n",
    "plt.grid(True, linestyle=':')\n",
    "plt.show()"
   ]
  },
  {
   "cell_type": "code",
   "execution_count": 389,
   "id": "d43c1c36",
   "metadata": {},
   "outputs": [
    {
     "data": {
      "image/png": "[encoded data removed]",
      "text/plain": [
       "<Figure size 1008x432 with 1 Axes>"
      ]
     },
     "metadata": {
      "needs_background": "light"
     },
     "output_type": "display_data"
    }
   ],
   "source": [
    "rcParams['figure.figsize'] = 14,6\n",
    "plt.plot(data.DATE, data.M2, label='M2')\n",
    "plt.plot(data.DATE, data.GDP, label='GDP')\n",
    "plt.legend(loc=2)\n",
    "plt.xlabel('Date')\n",
    "plt.ylabel('in billions')\n",
    "plt.title('Money Supply and GDP')\n",
    "plt.grid(True, linestyle=':')\n",
    "plt.show()"
   ]
  },
  {
   "cell_type": "code",
   "execution_count": 390,
   "id": "f8f1d122",
   "metadata": {},
   "outputs": [
    {
     "name": "stderr",
     "output_type": "stream",
     "text": [
      "C:\\Users\\andre\\anaconda3\\lib\\site-packages\\seaborn\\distributions.py:2619: FutureWarning: `distplot` is a deprecated function and will be removed in a future version. Please adapt your code to use either `displot` (a figure-level function with similar flexibility) or `histplot` (an axes-level function for histograms).\n",
      "  warnings.warn(msg, FutureWarning)\n"
     ]
    },
    {
     "data": {
      "text/plain": [
       "<AxesSubplot:xlabel='M2', ylabel='Density'>"
      ]
     },
     "execution_count": 390,
     "metadata": {},
     "output_type": "execute_result"
    },
    {
     "data": {
      "image/png": "[encoded data removed]",
      "text/plain": [
       "<Figure size 1008x432 with 1 Axes>"
      ]
     },
     "metadata": {
      "needs_background": "light"
     },
     "output_type": "display_data"
    }
   ],
   "source": [
    "sns.distplot(data.M2)"
   ]
  },
  {
   "cell_type": "code",
   "execution_count": 391,
   "id": "ecbee0bb",
   "metadata": {},
   "outputs": [
    {
     "data": {
      "text/plain": [
       "ShapiroResult(statistic=0.8144868016242981, pvalue=1.8119658662748048e-16)"
      ]
     },
     "execution_count": 391,
     "metadata": {},
     "output_type": "execute_result"
    }
   ],
   "source": [
    "stats.shapiro(data.M2)"
   ]
  },
  {
   "cell_type": "code",
   "execution_count": 392,
   "id": "b2264cbe",
   "metadata": {},
   "outputs": [],
   "source": [
    "# Money supply M2 behaves similar to GDP as expected and is also skewed to the right. "
   ]
  },
  {
   "cell_type": "markdown",
   "id": "cce15c28",
   "metadata": {},
   "source": [
    "## Consumer Price Index"
   ]
  },
  {
   "cell_type": "code",
   "execution_count": 393,
   "id": "21f8fa5a",
   "metadata": {},
   "outputs": [
    {
     "data": {
      "text/plain": [
       "0     -0.1\n",
       "1      0.6\n",
       "2      0.7\n",
       "3      0.1\n",
       "4      0.6\n",
       "      ... \n",
       "242    0.6\n",
       "243    0.5\n",
       "244   -1.0\n",
       "245    0.9\n",
       "246    0.7\n",
       "Name: CPI, Length: 247, dtype: float64"
      ]
     },
     "execution_count": 393,
     "metadata": {},
     "output_type": "execute_result"
    }
   ],
   "source": [
    "data.CPI"
   ]
  },
  {
   "cell_type": "code",
   "execution_count": 394,
   "id": "6190c53b",
   "metadata": {},
   "outputs": [
    {
     "data": {
      "text/plain": [
       "count    247.000000\n",
       "mean       0.896356\n",
       "std        0.809363\n",
       "min       -2.300000\n",
       "25%        0.500000\n",
       "50%        0.800000\n",
       "75%        1.200000\n",
       "max        3.700000\n",
       "Name: CPI, dtype: float64"
      ]
     },
     "execution_count": 394,
     "metadata": {},
     "output_type": "execute_result"
    }
   ],
   "source": [
    "data.CPI.describe()"
   ]
  },
  {
   "cell_type": "code",
   "execution_count": 395,
   "id": "9a34c86c",
   "metadata": {},
   "outputs": [
    {
     "data": {
      "image/png": "[encoded data removed]",
      "text/plain": [
       "<Figure size 1008x432 with 1 Axes>"
      ]
     },
     "metadata": {
      "needs_background": "light"
     },
     "output_type": "display_data"
    }
   ],
   "source": [
    "rcParams['figure.figsize'] = 14,6\n",
    "plt.plot(data.DATE, data.CPI, label='CPI')\n",
    "plt.legend(loc=2)\n",
    "plt.xlabel('Date')\n",
    "plt.title('Consumer Price Index')\n",
    "plt.grid(True, linestyle=':')\n",
    "plt.show()"
   ]
  },
  {
   "cell_type": "code",
   "execution_count": 396,
   "id": "2ad3c9f8",
   "metadata": {},
   "outputs": [
    {
     "name": "stderr",
     "output_type": "stream",
     "text": [
      "C:\\Users\\andre\\anaconda3\\lib\\site-packages\\seaborn\\distributions.py:2619: FutureWarning: `distplot` is a deprecated function and will be removed in a future version. Please adapt your code to use either `displot` (a figure-level function with similar flexibility) or `histplot` (an axes-level function for histograms).\n",
      "  warnings.warn(msg, FutureWarning)\n"
     ]
    },
    {
     "data": {
      "text/plain": [
       "<AxesSubplot:xlabel='CPI', ylabel='Density'>"
      ]
     },
     "execution_count": 396,
     "metadata": {},
     "output_type": "execute_result"
    },
    {
     "data": {
      "image/png": "[encoded data removed]",
      "text/plain": [
       "<Figure size 1008x432 with 1 Axes>"
      ]
     },
     "metadata": {
      "needs_background": "light"
     },
     "output_type": "display_data"
    }
   ],
   "source": [
    "sns.distplot(data.CPI)"
   ]
  },
  {
   "cell_type": "code",
   "execution_count": 397,
   "id": "bda2fb5d",
   "metadata": {},
   "outputs": [
    {
     "data": {
      "text/plain": [
       "ShapiroResult(statistic=0.9104782938957214, pvalue=5.366624852842783e-11)"
      ]
     },
     "execution_count": 397,
     "metadata": {},
     "output_type": "execute_result"
    }
   ],
   "source": [
    "stats.shapiro(data.CPI)"
   ]
  },
  {
   "cell_type": "code",
   "execution_count": 398,
   "id": "d59597b3",
   "metadata": {},
   "outputs": [],
   "source": [
    "# CPI is also not normally distributed "
   ]
  },
  {
   "cell_type": "markdown",
   "id": "23eaf346",
   "metadata": {},
   "source": [
    "## Interest Rate"
   ]
  },
  {
   "cell_type": "code",
   "execution_count": 399,
   "id": "b59c9f88",
   "metadata": {},
   "outputs": [
    {
     "data": {
      "text/plain": [
       "0      3.0\n",
       "1      3.5\n",
       "2      4.0\n",
       "3      4.0\n",
       "4      4.0\n",
       "      ... \n",
       "242    2.3\n",
       "243    2.3\n",
       "244    0.3\n",
       "245    0.3\n",
       "246    0.3\n",
       "Name: Interest_rate, Length: 247, dtype: float64"
      ]
     },
     "execution_count": 399,
     "metadata": {},
     "output_type": "execute_result"
    }
   ],
   "source": [
    "data.Interest_rate"
   ]
  },
  {
   "cell_type": "code",
   "execution_count": 400,
   "id": "abb07cb6",
   "metadata": {},
   "outputs": [
    {
     "data": {
      "text/plain": [
       "count    247.000000\n",
       "mean       4.663158\n",
       "std        2.870889\n",
       "min        0.300000\n",
       "25%        3.000000\n",
       "50%        4.500000\n",
       "75%        6.000000\n",
       "max       14.000000\n",
       "Name: Interest_rate, dtype: float64"
      ]
     },
     "execution_count": 400,
     "metadata": {},
     "output_type": "execute_result"
    }
   ],
   "source": [
    "data.Interest_rate.describe()"
   ]
  },
  {
   "cell_type": "code",
   "execution_count": 401,
   "id": "bc142f1c",
   "metadata": {},
   "outputs": [
    {
     "data": {
      "image/png": "[encoded data removed]",
      "text/plain": [
       "<Figure size 1008x432 with 1 Axes>"
      ]
     },
     "metadata": {
      "needs_background": "light"
     },
     "output_type": "display_data"
    }
   ],
   "source": [
    "rcParams['figure.figsize'] = 14,6\n",
    "plt.plot(data.DATE, data.Interest_rate, label='Interest Rate')\n",
    "plt.legend(loc=2)\n",
    "plt.xlabel('Date')\n",
    "plt.title('Interest Rate')\n",
    "plt.grid(True, linestyle=':')\n",
    "plt.show()"
   ]
  },
  {
   "cell_type": "code",
   "execution_count": 402,
   "id": "b6583e6a",
   "metadata": {},
   "outputs": [
    {
     "name": "stderr",
     "output_type": "stream",
     "text": [
      "C:\\Users\\andre\\anaconda3\\lib\\site-packages\\seaborn\\distributions.py:2619: FutureWarning: `distplot` is a deprecated function and will be removed in a future version. Please adapt your code to use either `displot` (a figure-level function with similar flexibility) or `histplot` (an axes-level function for histograms).\n",
      "  warnings.warn(msg, FutureWarning)\n"
     ]
    },
    {
     "data": {
      "text/plain": [
       "<AxesSubplot:xlabel='Interest_rate', ylabel='Density'>"
      ]
     },
     "execution_count": 402,
     "metadata": {},
     "output_type": "execute_result"
    },
    {
     "data": {
      "image/png": "[encoded data removed]",
      "text/plain": [
       "<Figure size 1008x432 with 1 Axes>"
      ]
     },
     "metadata": {
      "needs_background": "light"
     },
     "output_type": "display_data"
    }
   ],
   "source": [
    "sns.distplot(data.Interest_rate)"
   ]
  },
  {
   "cell_type": "code",
   "execution_count": 403,
   "id": "15b08b47",
   "metadata": {},
   "outputs": [
    {
     "data": {
      "text/plain": [
       "ShapiroResult(statistic=0.9445352554321289, pvalue=4.568971334606431e-08)"
      ]
     },
     "execution_count": 403,
     "metadata": {},
     "output_type": "execute_result"
    }
   ],
   "source": [
    "stats.shapiro(data.Interest_rate)"
   ]
  },
  {
   "cell_type": "code",
   "execution_count": 404,
   "id": "aaf345b4",
   "metadata": {},
   "outputs": [],
   "source": [
    "# Interest rate is also not normally distributed "
   ]
  },
  {
   "cell_type": "markdown",
   "id": "9b510e96",
   "metadata": {},
   "source": [
    "## Unemployment Rate"
   ]
  },
  {
   "cell_type": "code",
   "execution_count": 405,
   "id": "820c21f9",
   "metadata": {},
   "outputs": [
    {
     "data": {
      "text/plain": [
       "0       5.2\n",
       "1       5.1\n",
       "2       5.7\n",
       "3       5.2\n",
       "4       5.2\n",
       "       ... \n",
       "242     3.7\n",
       "243     3.6\n",
       "244     3.6\n",
       "245     3.5\n",
       "246    14.8\n",
       "Name: Unemp_rate, Length: 247, dtype: float64"
      ]
     },
     "execution_count": 405,
     "metadata": {},
     "output_type": "execute_result"
    }
   ],
   "source": [
    "data.Unemp_rate"
   ]
  },
  {
   "cell_type": "code",
   "execution_count": 406,
   "id": "6aef3844",
   "metadata": {},
   "outputs": [
    {
     "data": {
      "text/plain": [
       "count    247.000000\n",
       "mean       5.987854\n",
       "std        1.687645\n",
       "min        3.400000\n",
       "25%        4.850000\n",
       "50%        5.700000\n",
       "75%        7.000000\n",
       "max       14.800000\n",
       "Name: Unemp_rate, dtype: float64"
      ]
     },
     "execution_count": 406,
     "metadata": {},
     "output_type": "execute_result"
    }
   ],
   "source": [
    "data.Unemp_rate.describe()"
   ]
  },
  {
   "cell_type": "code",
   "execution_count": 407,
   "id": "80fbe2aa",
   "metadata": {},
   "outputs": [
    {
     "data": {
      "image/png": "[encoded data removed]",
      "text/plain": [
       "<Figure size 1008x432 with 1 Axes>"
      ]
     },
     "metadata": {
      "needs_background": "light"
     },
     "output_type": "display_data"
    }
   ],
   "source": [
    "rcParams['figure.figsize'] = 14,6\n",
    "plt.plot(data.DATE, data.Unemp_rate, label='Unemployment rate')\n",
    "plt.legend(loc=2)\n",
    "plt.xlabel('Date')\n",
    "plt.title('Unemployment rate')\n",
    "plt.grid(True, linestyle=':')\n",
    "plt.show()"
   ]
  },
  {
   "cell_type": "code",
   "execution_count": 408,
   "id": "a5cd08b1",
   "metadata": {},
   "outputs": [
    {
     "data": {
      "image/png": "[encoded data removed]",
      "text/plain": [
       "<Figure size 1008x432 with 1 Axes>"
      ]
     },
     "metadata": {
      "needs_background": "light"
     },
     "output_type": "display_data"
    }
   ],
   "source": [
    "rcParams['figure.figsize'] = 14,6\n",
    "plt.plot(data.DATE, data.Interest_rate, label='IR')\n",
    "plt.plot(data.DATE, data.Unemp_rate, label='Unemp')\n",
    "plt.legend(loc=2)\n",
    "plt.xlabel('Date')\n",
    "plt.ylabel('%')\n",
    "plt.title('Interest rate x Unemployment rate')\n",
    "plt.grid(True, linestyle=':')\n",
    "plt.show()"
   ]
  },
  {
   "cell_type": "code",
   "execution_count": 409,
   "id": "b57a2340",
   "metadata": {},
   "outputs": [
    {
     "name": "stderr",
     "output_type": "stream",
     "text": [
      "C:\\Users\\andre\\anaconda3\\lib\\site-packages\\seaborn\\distributions.py:2619: FutureWarning: `distplot` is a deprecated function and will be removed in a future version. Please adapt your code to use either `displot` (a figure-level function with similar flexibility) or `histplot` (an axes-level function for histograms).\n",
      "  warnings.warn(msg, FutureWarning)\n"
     ]
    },
    {
     "data": {
      "text/plain": [
       "<AxesSubplot:xlabel='Unemp_rate', ylabel='Density'>"
      ]
     },
     "execution_count": 409,
     "metadata": {},
     "output_type": "execute_result"
    },
    {
     "data": {
      "image/png": "[encoded data removed]",
      "text/plain": [
       "<Figure size 1008x432 with 1 Axes>"
      ]
     },
     "metadata": {
      "needs_background": "light"
     },
     "output_type": "display_data"
    }
   ],
   "source": [
    "sns.distplot(data.Unemp_rate)"
   ]
  },
  {
   "cell_type": "code",
   "execution_count": 410,
   "id": "eb249dfe",
   "metadata": {},
   "outputs": [
    {
     "data": {
      "text/plain": [
       "ShapiroResult(statistic=0.9336339235305786, pvalue=4.19783319216549e-09)"
      ]
     },
     "execution_count": 410,
     "metadata": {},
     "output_type": "execute_result"
    }
   ],
   "source": [
    "stats.shapiro(data.Unemp_rate)"
   ]
  },
  {
   "cell_type": "code",
   "execution_count": 411,
   "id": "10a69e6c",
   "metadata": {},
   "outputs": [],
   "source": [
    "# Unemployment rate is not normally distrubuted and the relation between interest rate and unemployment rate. A correlation \n",
    "# table will help us understand this better."
   ]
  },
  {
   "cell_type": "markdown",
   "id": "87614425",
   "metadata": {},
   "source": [
    "## Correlation Matrix"
   ]
  },
  {
   "cell_type": "code",
   "execution_count": 412,
   "id": "0251617b",
   "metadata": {},
   "outputs": [
    {
     "name": "stdout",
     "output_type": "stream",
     "text": [
      "                    GDP        M2       CPI  Interest_rate  Unemp_rate\n",
      "GDP            1.000000 -0.034361  0.369376       0.297190    0.119921\n",
      "M2            -0.034361  1.000000 -0.093505       0.053973    0.036964\n",
      "CPI            0.369376 -0.093505  1.000000       0.633322    0.026067\n",
      "Interest_rate  0.297190  0.053973  0.633322       1.000000    0.039744\n",
      "Unemp_rate     0.119921  0.036964  0.026067       0.039744    1.000000\n"
     ]
    }
   ],
   "source": [
    "corrMatrix = data.corr()\n",
    "print (corrMatrix)"
   ]
  },
  {
   "cell_type": "code",
   "execution_count": 413,
   "id": "deb19284",
   "metadata": {},
   "outputs": [],
   "source": [
    "# We need to be careful here because the data could be influenced by trend and seasonality effects"
   ]
  },
  {
   "cell_type": "markdown",
   "id": "282151be",
   "metadata": {},
   "source": [
    "### Stationaity test\n",
    "\n",
    "#### The idea is to see whether or not the data tomorrow is simlar to the data today. We need a constant mean otherwise the data is \n",
    "#### not stationary"
   ]
  },
  {
   "cell_type": "code",
   "execution_count": 414,
   "id": "6dc0d4cc",
   "metadata": {},
   "outputs": [],
   "source": [
    "# By looking at the graphs for GDP, M2 and CPI we can see that our data is unlickely to be stationary but let's test "
   ]
  },
  {
   "cell_type": "code",
   "execution_count": 415,
   "id": "9c1e0d0f",
   "metadata": {},
   "outputs": [],
   "source": [
    "from statsmodels.tsa.stattools import adfuller"
   ]
  },
  {
   "cell_type": "code",
   "execution_count": 416,
   "id": "3fd35c21",
   "metadata": {},
   "outputs": [
    {
     "name": "stdout",
     "output_type": "stream",
     "text": [
      "ADF Statistic: -1.872535\n",
      "p-value: 0.345090\n",
      "Critical Values:\n",
      "\t1%: -3.458\n",
      "\t5%: -2.874\n",
      "\t10%: -2.573\n",
      "Failed to reject H0 - Time Series is non-stationary\n"
     ]
    }
   ],
   "source": [
    "# GDP Augmented Dickey-Fuller test\n",
    "X = data['GDP'].values\n",
    "result = adfuller(X)\n",
    "print('ADF Statistic: %f' % result[0])\n",
    "print('p-value: %f' % result[1])\n",
    "print('Critical Values:')\n",
    "for key, value in result[4].items():\n",
    "    print('\\t%s: %.3f' % (key, value))\n",
    "    \n",
    "if result[0] < result[4][\"5%\"]:\n",
    "    print(\"Reject H0 - Time Series is stationary\")\n",
    "else:\n",
    "    print(\"Failed to reject H0 - Time Series is non-stationary\")"
   ]
  },
  {
   "cell_type": "code",
   "execution_count": 417,
   "id": "ca61d3c9",
   "metadata": {},
   "outputs": [
    {
     "name": "stdout",
     "output_type": "stream",
     "text": [
      "ADF Statistic: -3.734978\n",
      "p-value: 0.003647\n",
      "Critical Values:\n",
      "\t1%: -3.458\n",
      "\t5%: -2.874\n",
      "\t10%: -2.573\n",
      "Reject H0 - Time Series is stationary\n"
     ]
    }
   ],
   "source": [
    "# M2 Augmented Dickey-Fuller test\n",
    "X = data['M2'].values\n",
    "result = adfuller(X)\n",
    "print('ADF Statistic: %f' % result[0])\n",
    "print('p-value: %f' % result[1])\n",
    "print('Critical Values:')\n",
    "for key, value in result[4].items():\n",
    "    print('\\t%s: %.3f' % (key, value))\n",
    "    \n",
    "if result[0] < result[4][\"5%\"]:\n",
    "    print(\"Reject H0 - Time Series is stationary\")\n",
    "else:\n",
    "    print(\"Failed to reject H0 - Time Series is non-stationary\")"
   ]
  },
  {
   "cell_type": "code",
   "execution_count": 418,
   "id": "dc819ba2",
   "metadata": {},
   "outputs": [
    {
     "name": "stdout",
     "output_type": "stream",
     "text": [
      "ADF Statistic: -3.432608\n",
      "p-value: 0.009896\n",
      "Critical Values:\n",
      "\t1%: -3.457\n",
      "\t5%: -2.873\n",
      "\t10%: -2.573\n",
      "Reject H0 - Time Series is stationary\n"
     ]
    }
   ],
   "source": [
    "# CPI Augmented Dickey-Fuller test\n",
    "X = data['CPI'].values\n",
    "result = adfuller(X)\n",
    "print('ADF Statistic: %f' % result[0])\n",
    "print('p-value: %f' % result[1])\n",
    "print('Critical Values:')\n",
    "for key, value in result[4].items():\n",
    "    print('\\t%s: %.3f' % (key, value))\n",
    "    \n",
    "if result[0] < result[4][\"5%\"]:\n",
    "    print(\"Reject H0 - Time Series is stationary\")\n",
    "else:\n",
    "    print(\"Failed to reject H0 - Time Series is non-stationary\")"
   ]
  },
  {
   "cell_type": "code",
   "execution_count": 419,
   "id": "6587c375",
   "metadata": {},
   "outputs": [
    {
     "name": "stdout",
     "output_type": "stream",
     "text": [
      "ADF Statistic: -2.266291\n",
      "p-value: 0.183070\n",
      "Critical Values:\n",
      "\t1%: -3.458\n",
      "\t5%: -2.874\n",
      "\t10%: -2.573\n",
      "Failed to reject H0 - Time Series is non-stationary\n"
     ]
    }
   ],
   "source": [
    "# Ineterest rate Augmented Dickey-Fuller test\n",
    "X = data['Interest_rate'].values\n",
    "result = adfuller(X)\n",
    "print('ADF Statistic: %f' % result[0])\n",
    "print('p-value: %f' % result[1])\n",
    "print('Critical Values:')\n",
    "for key, value in result[4].items():\n",
    "    print('\\t%s: %.3f' % (key, value))\n",
    "    \n",
    "if result[0] < result[4][\"5%\"]:\n",
    "    print(\"Reject H0 - Time Series is stationary\")\n",
    "else:\n",
    "    print(\"Failed to reject H0 - Time Series is non-stationary\")"
   ]
  },
  {
   "cell_type": "code",
   "execution_count": 420,
   "id": "bab2b665",
   "metadata": {},
   "outputs": [
    {
     "name": "stdout",
     "output_type": "stream",
     "text": [
      "ADF Statistic: -2.771455\n",
      "p-value: 0.062468\n",
      "Critical Values:\n",
      "\t1%: -3.457\n",
      "\t5%: -2.873\n",
      "\t10%: -2.573\n",
      "Failed to reject H0 - Time Series is non-stationary\n"
     ]
    }
   ],
   "source": [
    "# Unemployment rate Augmented Dickey-Fuller test\n",
    "X = data['Unemp_rate'].values\n",
    "result = adfuller(X)\n",
    "print('ADF Statistic: %f' % result[0])\n",
    "print('p-value: %f' % result[1])\n",
    "print('Critical Values:')\n",
    "for key, value in result[4].items():\n",
    "    print('\\t%s: %.3f' % (key, value))\n",
    "    \n",
    "if result[0] < result[4][\"5%\"]:\n",
    "    print(\"Reject H0 - Time Series is stationary\")\n",
    "else:\n",
    "    print(\"Failed to reject H0 - Time Series is non-stationary\")"
   ]
  },
  {
   "cell_type": "code",
   "execution_count": 421,
   "id": "d03170d7",
   "metadata": {},
   "outputs": [],
   "source": [
    "# Since the data is non stationary let's apply differencing technique "
   ]
  },
  {
   "cell_type": "code",
   "execution_count": 422,
   "id": "c0d9384e",
   "metadata": {},
   "outputs": [],
   "source": [
    "data['diff_GDP'] = data['GDP'] - data['GDP'].shift(1)"
   ]
  },
  {
   "cell_type": "code",
   "execution_count": 423,
   "id": "f5a057ae",
   "metadata": {},
   "outputs": [
    {
     "data": {
      "text/plain": [
       "<AxesSubplot:>"
      ]
     },
     "execution_count": 423,
     "metadata": {},
     "output_type": "execute_result"
    },
    {
     "data": {
      "image/png": "[encoded data removed]",
      "text/plain": [
       "<Figure size 1008x432 with 1 Axes>"
      ]
     },
     "metadata": {
      "needs_background": "light"
     },
     "output_type": "display_data"
    }
   ],
   "source": [
    "data['diff_GDP'].dropna().plot()"
   ]
  },
  {
   "cell_type": "code",
   "execution_count": 424,
   "id": "d0059a61",
   "metadata": {},
   "outputs": [],
   "source": [
    "data['diff_Interest_rate'] = data['Interest_rate'] - data['Interest_rate'].shift(1)"
   ]
  },
  {
   "cell_type": "code",
   "execution_count": 425,
   "id": "860d2623",
   "metadata": {},
   "outputs": [
    {
     "data": {
      "text/plain": [
       "<AxesSubplot:>"
      ]
     },
     "execution_count": 425,
     "metadata": {},
     "output_type": "execute_result"
    },
    {
     "data": {
      "image/png": "[encoded data removed]",
      "text/plain": [
       "<Figure size 1008x432 with 1 Axes>"
      ]
     },
     "metadata": {
      "needs_background": "light"
     },
     "output_type": "display_data"
    }
   ],
   "source": [
    "data['diff_Interest_rate'].dropna().plot()"
   ]
  },
  {
   "cell_type": "code",
   "execution_count": 426,
   "id": "c2909ac7",
   "metadata": {},
   "outputs": [],
   "source": [
    "data['diff_Unemp'] = data['Unemp_rate'] - data['Unemp_rate'].shift(1)"
   ]
  },
  {
   "cell_type": "code",
   "execution_count": 427,
   "id": "969628bb",
   "metadata": {},
   "outputs": [
    {
     "data": {
      "text/plain": [
       "<AxesSubplot:>"
      ]
     },
     "execution_count": 427,
     "metadata": {},
     "output_type": "execute_result"
    },
    {
     "data": {
      "image/png": "[encoded data removed]",
      "text/plain": [
       "<Figure size 1008x432 with 1 Axes>"
      ]
     },
     "metadata": {
      "needs_background": "light"
     },
     "output_type": "display_data"
    }
   ],
   "source": [
    "data['diff_Unemp'].dropna().plot()"
   ]
  },
  {
   "cell_type": "code",
   "execution_count": 428,
   "id": "b21cc043",
   "metadata": {},
   "outputs": [
    {
     "name": "stderr",
     "output_type": "stream",
     "text": [
      "C:\\Users\\andre\\AppData\\Local\\Temp\\ipykernel_19224\\2270718144.py:2: FutureWarning: In a future version of pandas all arguments of DataFrame.drop except for the argument 'labels' will be keyword-only.\n",
      "  data.drop(['GDP', 'Interest_rate', 'Unemp_rate'], 1, inplace=True)\n"
     ]
    }
   ],
   "source": [
    "# Let's drop these columns since they are useless for our analysis \n",
    "data.drop(['GDP', 'Interest_rate', 'Unemp_rate'], 1, inplace=True)"
   ]
  },
  {
   "cell_type": "code",
   "execution_count": 429,
   "id": "934793a9",
   "metadata": {},
   "outputs": [
    {
     "name": "stdout",
     "output_type": "stream",
     "text": [
      "          DATE    M2  CPI  diff_GDP  diff_Interest_rate  diff_Unemp\n",
      "1   1959-01-07   1.8  0.6      -1.9                 0.5        -0.1\n",
      "2   1959-01-10   0.4  0.7       0.2                 0.5         0.6\n",
      "3   1960-01-01   0.6  0.1       2.0                 0.0        -0.5\n",
      "4   1960-01-04   0.6  0.6      -3.0                 0.0         0.0\n",
      "5   1960-01-07   1.3  0.0       1.1                -0.5         0.3\n",
      "..         ...   ...  ...       ...                 ...         ...\n",
      "242 2019-01-10   1.9  0.6       0.0                -0.7        -0.3\n",
      "243 2020-01-01   1.7  0.5      -1.9                 0.0        -0.1\n",
      "244 2020-01-04  10.5 -1.0      -8.6                -2.0         0.0\n",
      "245 2020-01-07   7.6  0.9      18.0                 0.0        -0.1\n",
      "246 2020-01-10   2.3  0.7      -7.0                 0.0        11.3\n",
      "\n",
      "[246 rows x 6 columns]\n"
     ]
    }
   ],
   "source": [
    "data_1 = pd.DataFrame(data)\n",
    "\n",
    "data_1 = data.iloc[1:]\n",
    "\n",
    "print(data_1)"
   ]
  },
  {
   "cell_type": "code",
   "execution_count": 430,
   "id": "43615e8a",
   "metadata": {},
   "outputs": [
    {
     "name": "stderr",
     "output_type": "stream",
     "text": [
      "C:\\Users\\andre\\AppData\\Local\\Temp\\ipykernel_19224\\505172319.py:1: SettingWithCopyWarning: \n",
      "A value is trying to be set on a copy of a slice from a DataFrame\n",
      "\n",
      "See the caveats in the documentation: https://pandas.pydata.org/pandas-docs/stable/user_guide/indexing.html#returning-a-view-versus-a-copy\n",
      "  data_1.rename(columns = {'diff_GDP':'GDP', 'diff_Interest_rate':'Int_rate','diff_Unemp':'Unemp'}, inplace = True)\n"
     ]
    }
   ],
   "source": [
    "data_1.rename(columns = {'diff_GDP':'GDP', 'diff_Interest_rate':'Int_rate','diff_Unemp':'Unemp'}, inplace = True)"
   ]
  },
  {
   "cell_type": "code",
   "execution_count": 431,
   "id": "a26df840",
   "metadata": {},
   "outputs": [
    {
     "data": {
      "text/html": [
       "<div>\n",
       "<style scoped>\n",
       "    .dataframe tbody tr th:only-of-type {\n",
       "        vertical-align: middle;\n",
       "    }\n",
       "\n",
       "    .dataframe tbody tr th {\n",
       "        vertical-align: top;\n",
       "    }\n",
       "\n",
       "    .dataframe thead th {\n",
       "        text-align: right;\n",
       "    }\n",
       "</style>\n",
       "<table border=\"1\" class=\"dataframe\">\n",
       "  <thead>\n",
       "    <tr style=\"text-align: right;\">\n",
       "      <th></th>\n",
       "      <th>DATE</th>\n",
       "      <th>M2</th>\n",
       "      <th>CPI</th>\n",
       "      <th>GDP</th>\n",
       "      <th>Int_rate</th>\n",
       "      <th>Unemp</th>\n",
       "    </tr>\n",
       "  </thead>\n",
       "  <tbody>\n",
       "    <tr>\n",
       "      <th>1</th>\n",
       "      <td>1959-01-07</td>\n",
       "      <td>1.8</td>\n",
       "      <td>0.6</td>\n",
       "      <td>-1.9</td>\n",
       "      <td>0.5</td>\n",
       "      <td>-0.1</td>\n",
       "    </tr>\n",
       "    <tr>\n",
       "      <th>2</th>\n",
       "      <td>1959-01-10</td>\n",
       "      <td>0.4</td>\n",
       "      <td>0.7</td>\n",
       "      <td>0.2</td>\n",
       "      <td>0.5</td>\n",
       "      <td>0.6</td>\n",
       "    </tr>\n",
       "    <tr>\n",
       "      <th>3</th>\n",
       "      <td>1960-01-01</td>\n",
       "      <td>0.6</td>\n",
       "      <td>0.1</td>\n",
       "      <td>2.0</td>\n",
       "      <td>0.0</td>\n",
       "      <td>-0.5</td>\n",
       "    </tr>\n",
       "    <tr>\n",
       "      <th>4</th>\n",
       "      <td>1960-01-04</td>\n",
       "      <td>0.6</td>\n",
       "      <td>0.6</td>\n",
       "      <td>-3.0</td>\n",
       "      <td>0.0</td>\n",
       "      <td>0.0</td>\n",
       "    </tr>\n",
       "    <tr>\n",
       "      <th>5</th>\n",
       "      <td>1960-01-07</td>\n",
       "      <td>1.3</td>\n",
       "      <td>0.0</td>\n",
       "      <td>1.1</td>\n",
       "      <td>-0.5</td>\n",
       "      <td>0.3</td>\n",
       "    </tr>\n",
       "    <tr>\n",
       "      <th>...</th>\n",
       "      <td>...</td>\n",
       "      <td>...</td>\n",
       "      <td>...</td>\n",
       "      <td>...</td>\n",
       "      <td>...</td>\n",
       "      <td>...</td>\n",
       "    </tr>\n",
       "    <tr>\n",
       "      <th>242</th>\n",
       "      <td>2019-01-10</td>\n",
       "      <td>1.9</td>\n",
       "      <td>0.6</td>\n",
       "      <td>0.0</td>\n",
       "      <td>-0.7</td>\n",
       "      <td>-0.3</td>\n",
       "    </tr>\n",
       "    <tr>\n",
       "      <th>243</th>\n",
       "      <td>2020-01-01</td>\n",
       "      <td>1.7</td>\n",
       "      <td>0.5</td>\n",
       "      <td>-1.9</td>\n",
       "      <td>0.0</td>\n",
       "      <td>-0.1</td>\n",
       "    </tr>\n",
       "    <tr>\n",
       "      <th>244</th>\n",
       "      <td>2020-01-04</td>\n",
       "      <td>10.5</td>\n",
       "      <td>-1.0</td>\n",
       "      <td>-8.6</td>\n",
       "      <td>-2.0</td>\n",
       "      <td>0.0</td>\n",
       "    </tr>\n",
       "    <tr>\n",
       "      <th>245</th>\n",
       "      <td>2020-01-07</td>\n",
       "      <td>7.6</td>\n",
       "      <td>0.9</td>\n",
       "      <td>18.0</td>\n",
       "      <td>0.0</td>\n",
       "      <td>-0.1</td>\n",
       "    </tr>\n",
       "    <tr>\n",
       "      <th>246</th>\n",
       "      <td>2020-01-10</td>\n",
       "      <td>2.3</td>\n",
       "      <td>0.7</td>\n",
       "      <td>-7.0</td>\n",
       "      <td>0.0</td>\n",
       "      <td>11.3</td>\n",
       "    </tr>\n",
       "  </tbody>\n",
       "</table>\n",
       "<p>246 rows × 6 columns</p>\n",
       "</div>"
      ],
      "text/plain": [
       "          DATE    M2  CPI   GDP  Int_rate  Unemp\n",
       "1   1959-01-07   1.8  0.6  -1.9       0.5   -0.1\n",
       "2   1959-01-10   0.4  0.7   0.2       0.5    0.6\n",
       "3   1960-01-01   0.6  0.1   2.0       0.0   -0.5\n",
       "4   1960-01-04   0.6  0.6  -3.0       0.0    0.0\n",
       "5   1960-01-07   1.3  0.0   1.1      -0.5    0.3\n",
       "..         ...   ...  ...   ...       ...    ...\n",
       "242 2019-01-10   1.9  0.6   0.0      -0.7   -0.3\n",
       "243 2020-01-01   1.7  0.5  -1.9       0.0   -0.1\n",
       "244 2020-01-04  10.5 -1.0  -8.6      -2.0    0.0\n",
       "245 2020-01-07   7.6  0.9  18.0       0.0   -0.1\n",
       "246 2020-01-10   2.3  0.7  -7.0       0.0   11.3\n",
       "\n",
       "[246 rows x 6 columns]"
      ]
     },
     "execution_count": 431,
     "metadata": {},
     "output_type": "execute_result"
    }
   ],
   "source": [
    "data_1"
   ]
  },
  {
   "cell_type": "code",
   "execution_count": 432,
   "id": "a2a3e412",
   "metadata": {},
   "outputs": [
    {
     "name": "stdout",
     "output_type": "stream",
     "text": [
      "ADF Statistic: -8.860369\n",
      "p-value: 0.000000\n",
      "Critical Values:\n",
      "\t1%: -3.458\n",
      "\t5%: -2.874\n",
      "\t10%: -2.573\n",
      "Reject H0 - Time Series is stationary\n"
     ]
    }
   ],
   "source": [
    "# Diff_GDP Augmented Dickey-Fuller test\n",
    "X = data_1['GDP'].values\n",
    "result = adfuller(X)\n",
    "print('ADF Statistic: %f' % result[0])\n",
    "print('p-value: %f' % result[1])\n",
    "print('Critical Values:')\n",
    "for key, value in result[4].items():\n",
    "    print('\\t%s: %.3f' % (key, value))\n",
    "    \n",
    "if result[0] < result[4][\"5%\"]:\n",
    "    print(\"Reject H0 - Time Series is stationary\")\n",
    "else:\n",
    "    print(\"Failed to reject H0 - Time Series is non-stationary\")"
   ]
  },
  {
   "cell_type": "code",
   "execution_count": 433,
   "id": "ecad7adb",
   "metadata": {},
   "outputs": [
    {
     "name": "stdout",
     "output_type": "stream",
     "text": [
      "ADF Statistic: -6.266053\n",
      "p-value: 0.000000\n",
      "Critical Values:\n",
      "\t1%: -3.458\n",
      "\t5%: -2.874\n",
      "\t10%: -2.573\n",
      "Reject H0 - Time Series is stationary\n"
     ]
    }
   ],
   "source": [
    "# Ineterest rate Augmented Dickey-Fuller test\n",
    "X = data_1['Int_rate'].values\n",
    "result = adfuller(X)\n",
    "print('ADF Statistic: %f' % result[0])\n",
    "print('p-value: %f' % result[1])\n",
    "print('Critical Values:')\n",
    "for key, value in result[4].items():\n",
    "    print('\\t%s: %.3f' % (key, value))\n",
    "    \n",
    "if result[0] < result[4][\"5%\"]:\n",
    "    print(\"Reject H0 - Time Series is stationary\")\n",
    "else:\n",
    "    print(\"Failed to reject H0 - Time Series is non-stationary\")"
   ]
  },
  {
   "cell_type": "code",
   "execution_count": 434,
   "id": "351a21c9",
   "metadata": {},
   "outputs": [
    {
     "name": "stdout",
     "output_type": "stream",
     "text": [
      "ADF Statistic: -3.836885\n",
      "p-value: 0.002552\n",
      "Critical Values:\n",
      "\t1%: -3.457\n",
      "\t5%: -2.873\n",
      "\t10%: -2.573\n",
      "Reject H0 - Time Series is stationary\n"
     ]
    }
   ],
   "source": [
    "# Unemployment rate Augmented Dickey-Fuller test\n",
    "X = data_1['Unemp'].values\n",
    "result = adfuller(X)\n",
    "print('ADF Statistic: %f' % result[0])\n",
    "print('p-value: %f' % result[1])\n",
    "print('Critical Values:')\n",
    "for key, value in result[4].items():\n",
    "    print('\\t%s: %.3f' % (key, value))\n",
    "    \n",
    "if result[0] < result[4][\"5%\"]:\n",
    "    print(\"Reject H0 - Time Series is stationary\")\n",
    "else:\n",
    "    print(\"Failed to reject H0 - Time Series is non-stationary\")"
   ]
  },
  {
   "cell_type": "markdown",
   "id": "64f80364",
   "metadata": {},
   "source": [
    "## Long Short Term Memory implementation\n",
    "### As dataset is stationary and ready it is time to implement the ML model"
   ]
  },
  {
   "cell_type": "code",
   "execution_count": 435,
   "id": "5c737e96",
   "metadata": {},
   "outputs": [],
   "source": [
    "# Library\n",
    "import matplotlib as mpl\n",
    "import matplotlib.pyplot as plt \n",
    "from sklearn.model_selection import train_test_split\n",
    "from keras.preprocessing.sequence import TimeseriesGenerator\n",
    "from sklearn.preprocessing import MinMaxScaler, StandardScaler\n",
    "import tensorflow as tf\n",
    "\n",
    "mpl.rcParams['figure.figsize'] = (10,8)\n",
    "mpl.rcParams['axes.grid'] = False"
   ]
  },
  {
   "cell_type": "code",
   "execution_count": 436,
   "id": "f6431207",
   "metadata": {},
   "outputs": [
    {
     "name": "stdout",
     "output_type": "stream",
     "text": [
      "<class 'pandas.core.frame.DataFrame'>\n",
      "RangeIndex: 246 entries, 1 to 246\n",
      "Data columns (total 6 columns):\n",
      " #   Column    Non-Null Count  Dtype         \n",
      "---  ------    --------------  -----         \n",
      " 0   DATE      246 non-null    datetime64[ns]\n",
      " 1   M2        246 non-null    float64       \n",
      " 2   CPI       246 non-null    float64       \n",
      " 3   GDP       246 non-null    float64       \n",
      " 4   Int_rate  246 non-null    float64       \n",
      " 5   Unemp     246 non-null    float64       \n",
      "dtypes: datetime64[ns](1), float64(5)\n",
      "memory usage: 11.7 KB\n"
     ]
    }
   ],
   "source": [
    "data_1.info()"
   ]
  },
  {
   "cell_type": "code",
   "execution_count": 437,
   "id": "e6d05a67",
   "metadata": {},
   "outputs": [
    {
     "data": {
      "text/plain": [
       "array([<AxesSubplot:xlabel='DATE'>, <AxesSubplot:xlabel='DATE'>,\n",
       "       <AxesSubplot:xlabel='DATE'>, <AxesSubplot:xlabel='DATE'>,\n",
       "       <AxesSubplot:xlabel='DATE'>], dtype=object)"
      ]
     },
     "execution_count": 437,
     "metadata": {},
     "output_type": "execute_result"
    },
    {
     "data": {
      "image/png": "[encoded data removed]",
      "text/plain": [
       "<Figure size 720x576 with 5 Axes>"
      ]
     },
     "metadata": {
      "needs_background": "light"
     },
     "output_type": "display_data"
    }
   ],
   "source": [
    "#plot all variables\n",
    "data_1.set_index('DATE')[['M2','CPI','GDP','Int_rate','Unemp']].plot(subplots=True)"
   ]
  },
  {
   "cell_type": "code",
   "execution_count": 438,
   "id": "9f642edf",
   "metadata": {},
   "outputs": [
    {
     "data": {
      "text/html": [
       "<div>\n",
       "<style scoped>\n",
       "    .dataframe tbody tr th:only-of-type {\n",
       "        vertical-align: middle;\n",
       "    }\n",
       "\n",
       "    .dataframe tbody tr th {\n",
       "        vertical-align: top;\n",
       "    }\n",
       "\n",
       "    .dataframe thead th {\n",
       "        text-align: right;\n",
       "    }\n",
       "</style>\n",
       "<table border=\"1\" class=\"dataframe\">\n",
       "  <thead>\n",
       "    <tr style=\"text-align: right;\">\n",
       "      <th></th>\n",
       "      <th>DATE</th>\n",
       "      <th>M2</th>\n",
       "      <th>CPI</th>\n",
       "      <th>GDP</th>\n",
       "      <th>Int_rate</th>\n",
       "      <th>Unemp</th>\n",
       "    </tr>\n",
       "  </thead>\n",
       "  <tbody>\n",
       "    <tr>\n",
       "      <th>1</th>\n",
       "      <td>1959-01-07</td>\n",
       "      <td>1.8</td>\n",
       "      <td>0.6</td>\n",
       "      <td>-1.9</td>\n",
       "      <td>0.5</td>\n",
       "      <td>-0.1</td>\n",
       "    </tr>\n",
       "    <tr>\n",
       "      <th>2</th>\n",
       "      <td>1959-01-10</td>\n",
       "      <td>0.4</td>\n",
       "      <td>0.7</td>\n",
       "      <td>0.2</td>\n",
       "      <td>0.5</td>\n",
       "      <td>0.6</td>\n",
       "    </tr>\n",
       "    <tr>\n",
       "      <th>3</th>\n",
       "      <td>1960-01-01</td>\n",
       "      <td>0.6</td>\n",
       "      <td>0.1</td>\n",
       "      <td>2.0</td>\n",
       "      <td>0.0</td>\n",
       "      <td>-0.5</td>\n",
       "    </tr>\n",
       "    <tr>\n",
       "      <th>4</th>\n",
       "      <td>1960-01-04</td>\n",
       "      <td>0.6</td>\n",
       "      <td>0.6</td>\n",
       "      <td>-3.0</td>\n",
       "      <td>0.0</td>\n",
       "      <td>0.0</td>\n",
       "    </tr>\n",
       "    <tr>\n",
       "      <th>5</th>\n",
       "      <td>1960-01-07</td>\n",
       "      <td>1.3</td>\n",
       "      <td>0.0</td>\n",
       "      <td>1.1</td>\n",
       "      <td>-0.5</td>\n",
       "      <td>0.3</td>\n",
       "    </tr>\n",
       "    <tr>\n",
       "      <th>...</th>\n",
       "      <td>...</td>\n",
       "      <td>...</td>\n",
       "      <td>...</td>\n",
       "      <td>...</td>\n",
       "      <td>...</td>\n",
       "      <td>...</td>\n",
       "    </tr>\n",
       "    <tr>\n",
       "      <th>242</th>\n",
       "      <td>2019-01-10</td>\n",
       "      <td>1.9</td>\n",
       "      <td>0.6</td>\n",
       "      <td>0.0</td>\n",
       "      <td>-0.7</td>\n",
       "      <td>-0.3</td>\n",
       "    </tr>\n",
       "    <tr>\n",
       "      <th>243</th>\n",
       "      <td>2020-01-01</td>\n",
       "      <td>1.7</td>\n",
       "      <td>0.5</td>\n",
       "      <td>-1.9</td>\n",
       "      <td>0.0</td>\n",
       "      <td>-0.1</td>\n",
       "    </tr>\n",
       "    <tr>\n",
       "      <th>244</th>\n",
       "      <td>2020-01-04</td>\n",
       "      <td>10.5</td>\n",
       "      <td>-1.0</td>\n",
       "      <td>-8.6</td>\n",
       "      <td>-2.0</td>\n",
       "      <td>0.0</td>\n",
       "    </tr>\n",
       "    <tr>\n",
       "      <th>245</th>\n",
       "      <td>2020-01-07</td>\n",
       "      <td>7.6</td>\n",
       "      <td>0.9</td>\n",
       "      <td>18.0</td>\n",
       "      <td>0.0</td>\n",
       "      <td>-0.1</td>\n",
       "    </tr>\n",
       "    <tr>\n",
       "      <th>246</th>\n",
       "      <td>2020-01-10</td>\n",
       "      <td>2.3</td>\n",
       "      <td>0.7</td>\n",
       "      <td>-7.0</td>\n",
       "      <td>0.0</td>\n",
       "      <td>11.3</td>\n",
       "    </tr>\n",
       "  </tbody>\n",
       "</table>\n",
       "<p>246 rows × 6 columns</p>\n",
       "</div>"
      ],
      "text/plain": [
       "          DATE    M2  CPI   GDP  Int_rate  Unemp\n",
       "1   1959-01-07   1.8  0.6  -1.9       0.5   -0.1\n",
       "2   1959-01-10   0.4  0.7   0.2       0.5    0.6\n",
       "3   1960-01-01   0.6  0.1   2.0       0.0   -0.5\n",
       "4   1960-01-04   0.6  0.6  -3.0       0.0    0.0\n",
       "5   1960-01-07   1.3  0.0   1.1      -0.5    0.3\n",
       "..         ...   ...  ...   ...       ...    ...\n",
       "242 2019-01-10   1.9  0.6   0.0      -0.7   -0.3\n",
       "243 2020-01-01   1.7  0.5  -1.9       0.0   -0.1\n",
       "244 2020-01-04  10.5 -1.0  -8.6      -2.0    0.0\n",
       "245 2020-01-07   7.6  0.9  18.0       0.0   -0.1\n",
       "246 2020-01-10   2.3  0.7  -7.0       0.0   11.3\n",
       "\n",
       "[246 rows x 6 columns]"
      ]
     },
     "execution_count": 438,
     "metadata": {},
     "output_type": "execute_result"
    }
   ],
   "source": [
    "data_1 # let's use around 80% as training data, therefore, 246 x 0.8 = 197 approx. "
   ]
  },
  {
   "cell_type": "code",
   "execution_count": 439,
   "id": "294075d5",
   "metadata": {},
   "outputs": [
    {
     "data": {
      "text/plain": [
       "['DATE', 'M2', 'CPI', 'GDP', 'Int_rate', 'Unemp']"
      ]
     },
     "execution_count": 439,
     "metadata": {},
     "output_type": "execute_result"
    }
   ],
   "source": [
    "# Move GDP column to be the first\n",
    "titles = list(data_1.columns)\n",
    "titles"
   ]
  },
  {
   "cell_type": "code",
   "execution_count": 440,
   "id": "94a15789",
   "metadata": {},
   "outputs": [
    {
     "data": {
      "text/plain": [
       "['DATE', 'GDP', 'M2', 'CPI', 'Int_rate', 'Unemp']"
      ]
     },
     "execution_count": 440,
     "metadata": {},
     "output_type": "execute_result"
    }
   ],
   "source": [
    "titles[1], titles[2], titles[3] = titles[3], titles[1], titles[2]\n",
    "titles"
   ]
  },
  {
   "cell_type": "code",
   "execution_count": 441,
   "id": "a7c451d8",
   "metadata": {},
   "outputs": [
    {
     "data": {
      "text/html": [
       "<div>\n",
       "<style scoped>\n",
       "    .dataframe tbody tr th:only-of-type {\n",
       "        vertical-align: middle;\n",
       "    }\n",
       "\n",
       "    .dataframe tbody tr th {\n",
       "        vertical-align: top;\n",
       "    }\n",
       "\n",
       "    .dataframe thead th {\n",
       "        text-align: right;\n",
       "    }\n",
       "</style>\n",
       "<table border=\"1\" class=\"dataframe\">\n",
       "  <thead>\n",
       "    <tr style=\"text-align: right;\">\n",
       "      <th></th>\n",
       "      <th>DATE</th>\n",
       "      <th>GDP</th>\n",
       "      <th>M2</th>\n",
       "      <th>CPI</th>\n",
       "      <th>Int_rate</th>\n",
       "      <th>Unemp</th>\n",
       "    </tr>\n",
       "  </thead>\n",
       "  <tbody>\n",
       "    <tr>\n",
       "      <th>1</th>\n",
       "      <td>1959-01-07</td>\n",
       "      <td>-1.9</td>\n",
       "      <td>1.8</td>\n",
       "      <td>0.6</td>\n",
       "      <td>0.5</td>\n",
       "      <td>-0.1</td>\n",
       "    </tr>\n",
       "    <tr>\n",
       "      <th>2</th>\n",
       "      <td>1959-01-10</td>\n",
       "      <td>0.2</td>\n",
       "      <td>0.4</td>\n",
       "      <td>0.7</td>\n",
       "      <td>0.5</td>\n",
       "      <td>0.6</td>\n",
       "    </tr>\n",
       "    <tr>\n",
       "      <th>3</th>\n",
       "      <td>1960-01-01</td>\n",
       "      <td>2.0</td>\n",
       "      <td>0.6</td>\n",
       "      <td>0.1</td>\n",
       "      <td>0.0</td>\n",
       "      <td>-0.5</td>\n",
       "    </tr>\n",
       "    <tr>\n",
       "      <th>4</th>\n",
       "      <td>1960-01-04</td>\n",
       "      <td>-3.0</td>\n",
       "      <td>0.6</td>\n",
       "      <td>0.6</td>\n",
       "      <td>0.0</td>\n",
       "      <td>0.0</td>\n",
       "    </tr>\n",
       "    <tr>\n",
       "      <th>5</th>\n",
       "      <td>1960-01-07</td>\n",
       "      <td>1.1</td>\n",
       "      <td>1.3</td>\n",
       "      <td>0.0</td>\n",
       "      <td>-0.5</td>\n",
       "      <td>0.3</td>\n",
       "    </tr>\n",
       "    <tr>\n",
       "      <th>...</th>\n",
       "      <td>...</td>\n",
       "      <td>...</td>\n",
       "      <td>...</td>\n",
       "      <td>...</td>\n",
       "      <td>...</td>\n",
       "      <td>...</td>\n",
       "    </tr>\n",
       "    <tr>\n",
       "      <th>242</th>\n",
       "      <td>2019-01-10</td>\n",
       "      <td>0.0</td>\n",
       "      <td>1.9</td>\n",
       "      <td>0.6</td>\n",
       "      <td>-0.7</td>\n",
       "      <td>-0.3</td>\n",
       "    </tr>\n",
       "    <tr>\n",
       "      <th>243</th>\n",
       "      <td>2020-01-01</td>\n",
       "      <td>-1.9</td>\n",
       "      <td>1.7</td>\n",
       "      <td>0.5</td>\n",
       "      <td>0.0</td>\n",
       "      <td>-0.1</td>\n",
       "    </tr>\n",
       "    <tr>\n",
       "      <th>244</th>\n",
       "      <td>2020-01-04</td>\n",
       "      <td>-8.6</td>\n",
       "      <td>10.5</td>\n",
       "      <td>-1.0</td>\n",
       "      <td>-2.0</td>\n",
       "      <td>0.0</td>\n",
       "    </tr>\n",
       "    <tr>\n",
       "      <th>245</th>\n",
       "      <td>2020-01-07</td>\n",
       "      <td>18.0</td>\n",
       "      <td>7.6</td>\n",
       "      <td>0.9</td>\n",
       "      <td>0.0</td>\n",
       "      <td>-0.1</td>\n",
       "    </tr>\n",
       "    <tr>\n",
       "      <th>246</th>\n",
       "      <td>2020-01-10</td>\n",
       "      <td>-7.0</td>\n",
       "      <td>2.3</td>\n",
       "      <td>0.7</td>\n",
       "      <td>0.0</td>\n",
       "      <td>11.3</td>\n",
       "    </tr>\n",
       "  </tbody>\n",
       "</table>\n",
       "<p>246 rows × 6 columns</p>\n",
       "</div>"
      ],
      "text/plain": [
       "          DATE   GDP    M2  CPI  Int_rate  Unemp\n",
       "1   1959-01-07  -1.9   1.8  0.6       0.5   -0.1\n",
       "2   1959-01-10   0.2   0.4  0.7       0.5    0.6\n",
       "3   1960-01-01   2.0   0.6  0.1       0.0   -0.5\n",
       "4   1960-01-04  -3.0   0.6  0.6       0.0    0.0\n",
       "5   1960-01-07   1.1   1.3  0.0      -0.5    0.3\n",
       "..         ...   ...   ...  ...       ...    ...\n",
       "242 2019-01-10   0.0   1.9  0.6      -0.7   -0.3\n",
       "243 2020-01-01  -1.9   1.7  0.5       0.0   -0.1\n",
       "244 2020-01-04  -8.6  10.5 -1.0      -2.0    0.0\n",
       "245 2020-01-07  18.0   7.6  0.9       0.0   -0.1\n",
       "246 2020-01-10  -7.0   2.3  0.7       0.0   11.3\n",
       "\n",
       "[246 rows x 6 columns]"
      ]
     },
     "execution_count": 441,
     "metadata": {},
     "output_type": "execute_result"
    }
   ],
   "source": [
    "data_1 = data_1[titles]\n",
    "data_1"
   ]
  },
  {
   "cell_type": "code",
   "execution_count": 442,
   "id": "6b9005c9",
   "metadata": {},
   "outputs": [
    {
     "data": {
      "text/plain": [
       "Timestamp('2008-01-04 00:00:00')"
      ]
     },
     "execution_count": 442,
     "metadata": {},
     "output_type": "execute_result"
    }
   ],
   "source": [
    "data_1.loc[196, 'DATE'] # Our training data goes until 04-01-2008"
   ]
  },
  {
   "cell_type": "code",
   "execution_count": 443,
   "id": "5cefaa04",
   "metadata": {
    "scrolled": true
   },
   "outputs": [
    {
     "data": {
      "text/html": [
       "<div>\n",
       "<style scoped>\n",
       "    .dataframe tbody tr th:only-of-type {\n",
       "        vertical-align: middle;\n",
       "    }\n",
       "\n",
       "    .dataframe tbody tr th {\n",
       "        vertical-align: top;\n",
       "    }\n",
       "\n",
       "    .dataframe thead th {\n",
       "        text-align: right;\n",
       "    }\n",
       "</style>\n",
       "<table border=\"1\" class=\"dataframe\">\n",
       "  <thead>\n",
       "    <tr style=\"text-align: right;\">\n",
       "      <th></th>\n",
       "      <th>DATE</th>\n",
       "      <th>GDP</th>\n",
       "      <th>M2</th>\n",
       "      <th>CPI</th>\n",
       "      <th>Int_rate</th>\n",
       "      <th>Unemp</th>\n",
       "    </tr>\n",
       "  </thead>\n",
       "  <tbody>\n",
       "    <tr>\n",
       "      <th>1</th>\n",
       "      <td>1959-01-07</td>\n",
       "      <td>-1.9</td>\n",
       "      <td>1.8</td>\n",
       "      <td>0.6</td>\n",
       "      <td>0.5</td>\n",
       "      <td>-0.1</td>\n",
       "    </tr>\n",
       "    <tr>\n",
       "      <th>2</th>\n",
       "      <td>1959-01-10</td>\n",
       "      <td>0.2</td>\n",
       "      <td>0.4</td>\n",
       "      <td>0.7</td>\n",
       "      <td>0.5</td>\n",
       "      <td>0.6</td>\n",
       "    </tr>\n",
       "    <tr>\n",
       "      <th>3</th>\n",
       "      <td>1960-01-01</td>\n",
       "      <td>2.0</td>\n",
       "      <td>0.6</td>\n",
       "      <td>0.1</td>\n",
       "      <td>0.0</td>\n",
       "      <td>-0.5</td>\n",
       "    </tr>\n",
       "    <tr>\n",
       "      <th>4</th>\n",
       "      <td>1960-01-04</td>\n",
       "      <td>-3.0</td>\n",
       "      <td>0.6</td>\n",
       "      <td>0.6</td>\n",
       "      <td>0.0</td>\n",
       "      <td>0.0</td>\n",
       "    </tr>\n",
       "    <tr>\n",
       "      <th>5</th>\n",
       "      <td>1960-01-07</td>\n",
       "      <td>1.1</td>\n",
       "      <td>1.3</td>\n",
       "      <td>0.0</td>\n",
       "      <td>-0.5</td>\n",
       "      <td>0.3</td>\n",
       "    </tr>\n",
       "    <tr>\n",
       "      <th>...</th>\n",
       "      <td>...</td>\n",
       "      <td>...</td>\n",
       "      <td>...</td>\n",
       "      <td>...</td>\n",
       "      <td>...</td>\n",
       "      <td>...</td>\n",
       "    </tr>\n",
       "    <tr>\n",
       "      <th>227</th>\n",
       "      <td>2016-01-01</td>\n",
       "      <td>0.3</td>\n",
       "      <td>2.2</td>\n",
       "      <td>0.0</td>\n",
       "      <td>0.2</td>\n",
       "      <td>-0.2</td>\n",
       "    </tr>\n",
       "    <tr>\n",
       "      <th>228</th>\n",
       "      <td>2016-01-04</td>\n",
       "      <td>0.5</td>\n",
       "      <td>1.8</td>\n",
       "      <td>0.6</td>\n",
       "      <td>0.0</td>\n",
       "      <td>-0.2</td>\n",
       "    </tr>\n",
       "    <tr>\n",
       "      <th>229</th>\n",
       "      <td>2016-01-07</td>\n",
       "      <td>-0.1</td>\n",
       "      <td>1.5</td>\n",
       "      <td>0.5</td>\n",
       "      <td>0.0</td>\n",
       "      <td>-0.2</td>\n",
       "    </tr>\n",
       "    <tr>\n",
       "      <th>230</th>\n",
       "      <td>2016-01-10</td>\n",
       "      <td>0.2</td>\n",
       "      <td>1.7</td>\n",
       "      <td>0.7</td>\n",
       "      <td>0.0</td>\n",
       "      <td>0.3</td>\n",
       "    </tr>\n",
       "    <tr>\n",
       "      <th>231</th>\n",
       "      <td>2017-01-01</td>\n",
       "      <td>0.0</td>\n",
       "      <td>1.3</td>\n",
       "      <td>0.8</td>\n",
       "      <td>0.3</td>\n",
       "      <td>-0.3</td>\n",
       "    </tr>\n",
       "  </tbody>\n",
       "</table>\n",
       "<p>231 rows × 6 columns</p>\n",
       "</div>"
      ],
      "text/plain": [
       "          DATE  GDP   M2  CPI  Int_rate  Unemp\n",
       "1   1959-01-07 -1.9  1.8  0.6       0.5   -0.1\n",
       "2   1959-01-10  0.2  0.4  0.7       0.5    0.6\n",
       "3   1960-01-01  2.0  0.6  0.1       0.0   -0.5\n",
       "4   1960-01-04 -3.0  0.6  0.6       0.0    0.0\n",
       "5   1960-01-07  1.1  1.3  0.0      -0.5    0.3\n",
       "..         ...  ...  ...  ...       ...    ...\n",
       "227 2016-01-01  0.3  2.2  0.0       0.2   -0.2\n",
       "228 2016-01-04  0.5  1.8  0.6       0.0   -0.2\n",
       "229 2016-01-07 -0.1  1.5  0.5       0.0   -0.2\n",
       "230 2016-01-10  0.2  1.7  0.7       0.0    0.3\n",
       "231 2017-01-01  0.0  1.3  0.8       0.3   -0.3\n",
       "\n",
       "[231 rows x 6 columns]"
      ]
     },
     "execution_count": 443,
     "metadata": {},
     "output_type": "execute_result"
    }
   ],
   "source": [
    "data_training = data_1[data_1['DATE']<'2017-01-04'].copy()\n",
    "data_training"
   ]
  },
  {
   "cell_type": "code",
   "execution_count": 444,
   "id": "d2ea21c3",
   "metadata": {},
   "outputs": [
    {
     "data": {
      "text/html": [
       "<div>\n",
       "<style scoped>\n",
       "    .dataframe tbody tr th:only-of-type {\n",
       "        vertical-align: middle;\n",
       "    }\n",
       "\n",
       "    .dataframe tbody tr th {\n",
       "        vertical-align: top;\n",
       "    }\n",
       "\n",
       "    .dataframe thead th {\n",
       "        text-align: right;\n",
       "    }\n",
       "</style>\n",
       "<table border=\"1\" class=\"dataframe\">\n",
       "  <thead>\n",
       "    <tr style=\"text-align: right;\">\n",
       "      <th></th>\n",
       "      <th>DATE</th>\n",
       "      <th>GDP</th>\n",
       "      <th>M2</th>\n",
       "      <th>CPI</th>\n",
       "      <th>Int_rate</th>\n",
       "      <th>Unemp</th>\n",
       "    </tr>\n",
       "  </thead>\n",
       "  <tbody>\n",
       "    <tr>\n",
       "      <th>232</th>\n",
       "      <td>2017-01-04</td>\n",
       "      <td>-0.4</td>\n",
       "      <td>1.5</td>\n",
       "      <td>0.3</td>\n",
       "      <td>0.2</td>\n",
       "      <td>0.1</td>\n",
       "    </tr>\n",
       "    <tr>\n",
       "      <th>233</th>\n",
       "      <td>2017-01-07</td>\n",
       "      <td>0.5</td>\n",
       "      <td>1.0</td>\n",
       "      <td>0.0</td>\n",
       "      <td>0.3</td>\n",
       "      <td>-0.2</td>\n",
       "    </tr>\n",
       "    <tr>\n",
       "      <th>234</th>\n",
       "      <td>2017-01-10</td>\n",
       "      <td>0.4</td>\n",
       "      <td>1.1</td>\n",
       "      <td>1.0</td>\n",
       "      <td>0.0</td>\n",
       "      <td>-0.2</td>\n",
       "    </tr>\n",
       "    <tr>\n",
       "      <th>235</th>\n",
       "      <td>2018-01-01</td>\n",
       "      <td>-0.1</td>\n",
       "      <td>0.6</td>\n",
       "      <td>0.8</td>\n",
       "      <td>0.2</td>\n",
       "      <td>-0.2</td>\n",
       "    </tr>\n",
       "    <tr>\n",
       "      <th>236</th>\n",
       "      <td>2018-01-04</td>\n",
       "      <td>0.0</td>\n",
       "      <td>0.9</td>\n",
       "      <td>0.6</td>\n",
       "      <td>0.3</td>\n",
       "      <td>-0.2</td>\n",
       "    </tr>\n",
       "    <tr>\n",
       "      <th>237</th>\n",
       "      <td>2018-01-07</td>\n",
       "      <td>-0.6</td>\n",
       "      <td>1.2</td>\n",
       "      <td>0.4</td>\n",
       "      <td>0.2</td>\n",
       "      <td>-0.1</td>\n",
       "    </tr>\n",
       "    <tr>\n",
       "      <th>238</th>\n",
       "      <td>2018-01-10</td>\n",
       "      <td>-0.1</td>\n",
       "      <td>0.6</td>\n",
       "      <td>0.6</td>\n",
       "      <td>0.3</td>\n",
       "      <td>0.0</td>\n",
       "    </tr>\n",
       "    <tr>\n",
       "      <th>239</th>\n",
       "      <td>2019-01-01</td>\n",
       "      <td>0.2</td>\n",
       "      <td>1.4</td>\n",
       "      <td>-0.2</td>\n",
       "      <td>0.2</td>\n",
       "      <td>-0.2</td>\n",
       "    </tr>\n",
       "    <tr>\n",
       "      <th>240</th>\n",
       "      <td>2019-01-04</td>\n",
       "      <td>0.0</td>\n",
       "      <td>0.9</td>\n",
       "      <td>1.1</td>\n",
       "      <td>0.0</td>\n",
       "      <td>0.0</td>\n",
       "    </tr>\n",
       "    <tr>\n",
       "      <th>241</th>\n",
       "      <td>2019-01-07</td>\n",
       "      <td>0.0</td>\n",
       "      <td>2.1</td>\n",
       "      <td>0.2</td>\n",
       "      <td>0.0</td>\n",
       "      <td>0.2</td>\n",
       "    </tr>\n",
       "    <tr>\n",
       "      <th>242</th>\n",
       "      <td>2019-01-10</td>\n",
       "      <td>0.0</td>\n",
       "      <td>1.9</td>\n",
       "      <td>0.6</td>\n",
       "      <td>-0.7</td>\n",
       "      <td>-0.3</td>\n",
       "    </tr>\n",
       "    <tr>\n",
       "      <th>243</th>\n",
       "      <td>2020-01-01</td>\n",
       "      <td>-1.9</td>\n",
       "      <td>1.7</td>\n",
       "      <td>0.5</td>\n",
       "      <td>0.0</td>\n",
       "      <td>-0.1</td>\n",
       "    </tr>\n",
       "    <tr>\n",
       "      <th>244</th>\n",
       "      <td>2020-01-04</td>\n",
       "      <td>-8.6</td>\n",
       "      <td>10.5</td>\n",
       "      <td>-1.0</td>\n",
       "      <td>-2.0</td>\n",
       "      <td>0.0</td>\n",
       "    </tr>\n",
       "    <tr>\n",
       "      <th>245</th>\n",
       "      <td>2020-01-07</td>\n",
       "      <td>18.0</td>\n",
       "      <td>7.6</td>\n",
       "      <td>0.9</td>\n",
       "      <td>0.0</td>\n",
       "      <td>-0.1</td>\n",
       "    </tr>\n",
       "    <tr>\n",
       "      <th>246</th>\n",
       "      <td>2020-01-10</td>\n",
       "      <td>-7.0</td>\n",
       "      <td>2.3</td>\n",
       "      <td>0.7</td>\n",
       "      <td>0.0</td>\n",
       "      <td>11.3</td>\n",
       "    </tr>\n",
       "  </tbody>\n",
       "</table>\n",
       "</div>"
      ],
      "text/plain": [
       "          DATE   GDP    M2  CPI  Int_rate  Unemp\n",
       "232 2017-01-04  -0.4   1.5  0.3       0.2    0.1\n",
       "233 2017-01-07   0.5   1.0  0.0       0.3   -0.2\n",
       "234 2017-01-10   0.4   1.1  1.0       0.0   -0.2\n",
       "235 2018-01-01  -0.1   0.6  0.8       0.2   -0.2\n",
       "236 2018-01-04   0.0   0.9  0.6       0.3   -0.2\n",
       "237 2018-01-07  -0.6   1.2  0.4       0.2   -0.1\n",
       "238 2018-01-10  -0.1   0.6  0.6       0.3    0.0\n",
       "239 2019-01-01   0.2   1.4 -0.2       0.2   -0.2\n",
       "240 2019-01-04   0.0   0.9  1.1       0.0    0.0\n",
       "241 2019-01-07   0.0   2.1  0.2       0.0    0.2\n",
       "242 2019-01-10   0.0   1.9  0.6      -0.7   -0.3\n",
       "243 2020-01-01  -1.9   1.7  0.5       0.0   -0.1\n",
       "244 2020-01-04  -8.6  10.5 -1.0      -2.0    0.0\n",
       "245 2020-01-07  18.0   7.6  0.9       0.0   -0.1\n",
       "246 2020-01-10  -7.0   2.3  0.7       0.0   11.3"
      ]
     },
     "execution_count": 444,
     "metadata": {},
     "output_type": "execute_result"
    }
   ],
   "source": [
    "data_test = data_1[data_1['DATE']>='2017-01-04'].copy()\n",
    "data_test"
   ]
  },
  {
   "cell_type": "code",
   "execution_count": 445,
   "id": "e51b5105",
   "metadata": {},
   "outputs": [
    {
     "data": {
      "text/html": [
       "<div>\n",
       "<style scoped>\n",
       "    .dataframe tbody tr th:only-of-type {\n",
       "        vertical-align: middle;\n",
       "    }\n",
       "\n",
       "    .dataframe tbody tr th {\n",
       "        vertical-align: top;\n",
       "    }\n",
       "\n",
       "    .dataframe thead th {\n",
       "        text-align: right;\n",
       "    }\n",
       "</style>\n",
       "<table border=\"1\" class=\"dataframe\">\n",
       "  <thead>\n",
       "    <tr style=\"text-align: right;\">\n",
       "      <th></th>\n",
       "      <th>GDP</th>\n",
       "      <th>M2</th>\n",
       "      <th>CPI</th>\n",
       "      <th>Int_rate</th>\n",
       "      <th>Unemp</th>\n",
       "    </tr>\n",
       "  </thead>\n",
       "  <tbody>\n",
       "    <tr>\n",
       "      <th>1</th>\n",
       "      <td>-1.9</td>\n",
       "      <td>1.8</td>\n",
       "      <td>0.6</td>\n",
       "      <td>0.5</td>\n",
       "      <td>-0.1</td>\n",
       "    </tr>\n",
       "    <tr>\n",
       "      <th>2</th>\n",
       "      <td>0.2</td>\n",
       "      <td>0.4</td>\n",
       "      <td>0.7</td>\n",
       "      <td>0.5</td>\n",
       "      <td>0.6</td>\n",
       "    </tr>\n",
       "    <tr>\n",
       "      <th>3</th>\n",
       "      <td>2.0</td>\n",
       "      <td>0.6</td>\n",
       "      <td>0.1</td>\n",
       "      <td>0.0</td>\n",
       "      <td>-0.5</td>\n",
       "    </tr>\n",
       "    <tr>\n",
       "      <th>4</th>\n",
       "      <td>-3.0</td>\n",
       "      <td>0.6</td>\n",
       "      <td>0.6</td>\n",
       "      <td>0.0</td>\n",
       "      <td>0.0</td>\n",
       "    </tr>\n",
       "    <tr>\n",
       "      <th>5</th>\n",
       "      <td>1.1</td>\n",
       "      <td>1.3</td>\n",
       "      <td>0.0</td>\n",
       "      <td>-0.5</td>\n",
       "      <td>0.3</td>\n",
       "    </tr>\n",
       "    <tr>\n",
       "      <th>...</th>\n",
       "      <td>...</td>\n",
       "      <td>...</td>\n",
       "      <td>...</td>\n",
       "      <td>...</td>\n",
       "      <td>...</td>\n",
       "    </tr>\n",
       "    <tr>\n",
       "      <th>227</th>\n",
       "      <td>0.3</td>\n",
       "      <td>2.2</td>\n",
       "      <td>0.0</td>\n",
       "      <td>0.2</td>\n",
       "      <td>-0.2</td>\n",
       "    </tr>\n",
       "    <tr>\n",
       "      <th>228</th>\n",
       "      <td>0.5</td>\n",
       "      <td>1.8</td>\n",
       "      <td>0.6</td>\n",
       "      <td>0.0</td>\n",
       "      <td>-0.2</td>\n",
       "    </tr>\n",
       "    <tr>\n",
       "      <th>229</th>\n",
       "      <td>-0.1</td>\n",
       "      <td>1.5</td>\n",
       "      <td>0.5</td>\n",
       "      <td>0.0</td>\n",
       "      <td>-0.2</td>\n",
       "    </tr>\n",
       "    <tr>\n",
       "      <th>230</th>\n",
       "      <td>0.2</td>\n",
       "      <td>1.7</td>\n",
       "      <td>0.7</td>\n",
       "      <td>0.0</td>\n",
       "      <td>0.3</td>\n",
       "    </tr>\n",
       "    <tr>\n",
       "      <th>231</th>\n",
       "      <td>0.0</td>\n",
       "      <td>1.3</td>\n",
       "      <td>0.8</td>\n",
       "      <td>0.3</td>\n",
       "      <td>-0.3</td>\n",
       "    </tr>\n",
       "  </tbody>\n",
       "</table>\n",
       "<p>231 rows × 5 columns</p>\n",
       "</div>"
      ],
      "text/plain": [
       "     GDP   M2  CPI  Int_rate  Unemp\n",
       "1   -1.9  1.8  0.6       0.5   -0.1\n",
       "2    0.2  0.4  0.7       0.5    0.6\n",
       "3    2.0  0.6  0.1       0.0   -0.5\n",
       "4   -3.0  0.6  0.6       0.0    0.0\n",
       "5    1.1  1.3  0.0      -0.5    0.3\n",
       "..   ...  ...  ...       ...    ...\n",
       "227  0.3  2.2  0.0       0.2   -0.2\n",
       "228  0.5  1.8  0.6       0.0   -0.2\n",
       "229 -0.1  1.5  0.5       0.0   -0.2\n",
       "230  0.2  1.7  0.7       0.0    0.3\n",
       "231  0.0  1.3  0.8       0.3   -0.3\n",
       "\n",
       "[231 rows x 5 columns]"
      ]
     },
     "execution_count": 445,
     "metadata": {},
     "output_type": "execute_result"
    }
   ],
   "source": [
    "training_data = data_training.drop(['DATE'], axis=1)\n",
    "training_data"
   ]
  },
  {
   "cell_type": "code",
   "execution_count": 446,
   "id": "c2e1923c",
   "metadata": {},
   "outputs": [
    {
     "data": {
      "text/plain": [
       "array([[0.2       , 0.4       , 0.48333333, 0.62085308, 0.24137931],\n",
       "       [0.48      , 0.12      , 0.5       , 0.62085308, 0.48275862],\n",
       "       [0.72      , 0.16      , 0.4       , 0.50236967, 0.10344828],\n",
       "       ...,\n",
       "       [0.44      , 0.34      , 0.46666667, 0.50236967, 0.20689655],\n",
       "       [0.48      , 0.38      , 0.5       , 0.50236967, 0.37931034],\n",
       "       [0.45333333, 0.3       , 0.51666667, 0.57345972, 0.17241379]])"
      ]
     },
     "execution_count": 446,
     "metadata": {},
     "output_type": "execute_result"
    }
   ],
   "source": [
    "scaler = MinMaxScaler()\n",
    "training_data = scaler.fit_transform(training_data)\n",
    "training_data"
   ]
  },
  {
   "cell_type": "code",
   "execution_count": 447,
   "id": "0fb39227",
   "metadata": {},
   "outputs": [],
   "source": [
    "X_train = []\n",
    "y_train = []"
   ]
  },
  {
   "cell_type": "code",
   "execution_count": 448,
   "id": "2b66eaf2",
   "metadata": {},
   "outputs": [
    {
     "data": {
      "text/plain": [
       "231"
      ]
     },
     "execution_count": 448,
     "metadata": {},
     "output_type": "execute_result"
    }
   ],
   "source": [
    "training_data.shape[0]"
   ]
  },
  {
   "cell_type": "code",
   "execution_count": 449,
   "id": "f1525274",
   "metadata": {},
   "outputs": [],
   "source": [
    "for i in range(4, training_data.shape[0]):\n",
    "    X_train.append(training_data[i-4:i])\n",
    "    y_train.append(training_data[i,0])"
   ]
  },
  {
   "cell_type": "code",
   "execution_count": 450,
   "id": "55b8732f",
   "metadata": {},
   "outputs": [],
   "source": [
    "X_train, y_train = np.array(X_train), np.array(y_train)"
   ]
  },
  {
   "cell_type": "code",
   "execution_count": 451,
   "id": "8cbffc00",
   "metadata": {},
   "outputs": [
    {
     "data": {
      "text/plain": [
       "((227, 4, 5), (227,))"
      ]
     },
     "execution_count": 451,
     "metadata": {},
     "output_type": "execute_result"
    }
   ],
   "source": [
    "X_train.shape, y_train.shape"
   ]
  },
  {
   "cell_type": "code",
   "execution_count": 452,
   "id": "e0e8636e",
   "metadata": {},
   "outputs": [],
   "source": [
    "from tensorflow.keras import Sequential\n",
    "from tensorflow.keras.layers import Dense, LSTM, Dropout"
   ]
  },
  {
   "cell_type": "code",
   "execution_count": 453,
   "id": "0b222e79",
   "metadata": {},
   "outputs": [],
   "source": [
    "# Building the LSTM MODEL"
   ]
  },
  {
   "cell_type": "code",
   "execution_count": 454,
   "id": "db9a7499",
   "metadata": {},
   "outputs": [],
   "source": [
    "reg = Sequential()\n",
    "\n",
    "reg.add(LSTM(units= 10, activation= 'relu', return_sequences = True, input_shape = (X_train.shape[1], 5)))\n",
    "reg.add(Dropout(0.2))\n",
    "\n",
    "reg.add(LSTM(units= 10, activation= 'relu', return_sequences = True))\n",
    "reg.add(Dropout(0.2))\n",
    "\n",
    "reg.add(LSTM(units= 20, activation= 'relu', return_sequences = True))\n",
    "reg.add(Dropout(0.2))\n",
    "\n",
    "reg.add(LSTM(units= 20, activation='relu'))\n",
    "reg.add(Dropout(0.4))\n",
    "\n",
    "reg.add(Dense(units = 1))"
   ]
  },
  {
   "cell_type": "code",
   "execution_count": 455,
   "id": "48ab89a2",
   "metadata": {},
   "outputs": [
    {
     "data": {
      "text/plain": [
       "(4, 5)"
      ]
     },
     "execution_count": 455,
     "metadata": {},
     "output_type": "execute_result"
    }
   ],
   "source": [
    "X_train.shape[1], 5"
   ]
  },
  {
   "cell_type": "code",
   "execution_count": 456,
   "id": "cbc38355",
   "metadata": {},
   "outputs": [
    {
     "name": "stdout",
     "output_type": "stream",
     "text": [
      "Model: \"sequential_3\"\n",
      "_________________________________________________________________\n",
      " Layer (type)                Output Shape              Param #   \n",
      "=================================================================\n",
      " lstm_12 (LSTM)              (None, 4, 10)             640       \n",
      "                                                                 \n",
      " dropout_12 (Dropout)        (None, 4, 10)             0         \n",
      "                                                                 \n",
      " lstm_13 (LSTM)              (None, 4, 10)             840       \n",
      "                                                                 \n",
      " dropout_13 (Dropout)        (None, 4, 10)             0         \n",
      "                                                                 \n",
      " lstm_14 (LSTM)              (None, 4, 20)             2480      \n",
      "                                                                 \n",
      " dropout_14 (Dropout)        (None, 4, 20)             0         \n",
      "                                                                 \n",
      " lstm_15 (LSTM)              (None, 20)                3280      \n",
      "                                                                 \n",
      " dropout_15 (Dropout)        (None, 20)                0         \n",
      "                                                                 \n",
      " dense_3 (Dense)             (None, 1)                 21        \n",
      "                                                                 \n",
      "=================================================================\n",
      "Total params: 7,261\n",
      "Trainable params: 7,261\n",
      "Non-trainable params: 0\n",
      "_________________________________________________________________\n"
     ]
    }
   ],
   "source": [
    "reg.summary()"
   ]
  },
  {
   "cell_type": "code",
   "execution_count": 457,
   "id": "15a6d50a",
   "metadata": {},
   "outputs": [],
   "source": [
    "reg.compile(optimizer='adam', loss = 'mean_squared_error')"
   ]
  },
  {
   "cell_type": "code",
   "execution_count": 458,
   "id": "ea6fc4f0",
   "metadata": {},
   "outputs": [
    {
     "name": "stdout",
     "output_type": "stream",
     "text": [
      "Epoch 1/10\n",
      "12/12 [==============================] - 5s 6ms/step - loss: 0.2090\n",
      "Epoch 2/10\n",
      "12/12 [==============================] - 0s 6ms/step - loss: 0.1700\n",
      "Epoch 3/10\n",
      "12/12 [==============================] - 0s 6ms/step - loss: 0.1256\n",
      "Epoch 4/10\n",
      "12/12 [==============================] - 0s 5ms/step - loss: 0.0772\n",
      "Epoch 5/10\n",
      "12/12 [==============================] - 0s 6ms/step - loss: 0.0362\n",
      "Epoch 6/10\n",
      "12/12 [==============================] - 0s 6ms/step - loss: 0.0316\n",
      "Epoch 7/10\n",
      "12/12 [==============================] - 0s 6ms/step - loss: 0.0278\n",
      "Epoch 8/10\n",
      "12/12 [==============================] - 0s 5ms/step - loss: 0.0320\n",
      "Epoch 9/10\n",
      "12/12 [==============================] - 0s 6ms/step - loss: 0.0258\n",
      "Epoch 10/10\n",
      "12/12 [==============================] - 0s 6ms/step - loss: 0.0298\n"
     ]
    },
    {
     "data": {
      "text/plain": [
       "<keras.callbacks.History at 0x2208e8ae5e0>"
      ]
     },
     "execution_count": 458,
     "metadata": {},
     "output_type": "execute_result"
    }
   ],
   "source": [
    "reg.fit(X_train, y_train, epochs=10, batch_size=20)"
   ]
  },
  {
   "cell_type": "markdown",
   "id": "051b913f",
   "metadata": {},
   "source": [
    "### Test data"
   ]
  },
  {
   "cell_type": "code",
   "execution_count": 459,
   "id": "687cef43",
   "metadata": {},
   "outputs": [
    {
     "data": {
      "text/html": [
       "<div>\n",
       "<style scoped>\n",
       "    .dataframe tbody tr th:only-of-type {\n",
       "        vertical-align: middle;\n",
       "    }\n",
       "\n",
       "    .dataframe tbody tr th {\n",
       "        vertical-align: top;\n",
       "    }\n",
       "\n",
       "    .dataframe thead th {\n",
       "        text-align: right;\n",
       "    }\n",
       "</style>\n",
       "<table border=\"1\" class=\"dataframe\">\n",
       "  <thead>\n",
       "    <tr style=\"text-align: right;\">\n",
       "      <th></th>\n",
       "      <th>DATE</th>\n",
       "      <th>GDP</th>\n",
       "      <th>M2</th>\n",
       "      <th>CPI</th>\n",
       "      <th>Int_rate</th>\n",
       "      <th>Unemp</th>\n",
       "    </tr>\n",
       "  </thead>\n",
       "  <tbody>\n",
       "    <tr>\n",
       "      <th>232</th>\n",
       "      <td>2017-01-04</td>\n",
       "      <td>-0.4</td>\n",
       "      <td>1.5</td>\n",
       "      <td>0.3</td>\n",
       "      <td>0.2</td>\n",
       "      <td>0.1</td>\n",
       "    </tr>\n",
       "    <tr>\n",
       "      <th>233</th>\n",
       "      <td>2017-01-07</td>\n",
       "      <td>0.5</td>\n",
       "      <td>1.0</td>\n",
       "      <td>0.0</td>\n",
       "      <td>0.3</td>\n",
       "      <td>-0.2</td>\n",
       "    </tr>\n",
       "    <tr>\n",
       "      <th>234</th>\n",
       "      <td>2017-01-10</td>\n",
       "      <td>0.4</td>\n",
       "      <td>1.1</td>\n",
       "      <td>1.0</td>\n",
       "      <td>0.0</td>\n",
       "      <td>-0.2</td>\n",
       "    </tr>\n",
       "    <tr>\n",
       "      <th>235</th>\n",
       "      <td>2018-01-01</td>\n",
       "      <td>-0.1</td>\n",
       "      <td>0.6</td>\n",
       "      <td>0.8</td>\n",
       "      <td>0.2</td>\n",
       "      <td>-0.2</td>\n",
       "    </tr>\n",
       "    <tr>\n",
       "      <th>236</th>\n",
       "      <td>2018-01-04</td>\n",
       "      <td>0.0</td>\n",
       "      <td>0.9</td>\n",
       "      <td>0.6</td>\n",
       "      <td>0.3</td>\n",
       "      <td>-0.2</td>\n",
       "    </tr>\n",
       "  </tbody>\n",
       "</table>\n",
       "</div>"
      ],
      "text/plain": [
       "          DATE  GDP   M2  CPI  Int_rate  Unemp\n",
       "232 2017-01-04 -0.4  1.5  0.3       0.2    0.1\n",
       "233 2017-01-07  0.5  1.0  0.0       0.3   -0.2\n",
       "234 2017-01-10  0.4  1.1  1.0       0.0   -0.2\n",
       "235 2018-01-01 -0.1  0.6  0.8       0.2   -0.2\n",
       "236 2018-01-04  0.0  0.9  0.6       0.3   -0.2"
      ]
     },
     "execution_count": 459,
     "metadata": {},
     "output_type": "execute_result"
    }
   ],
   "source": [
    "data_test.head()"
   ]
  },
  {
   "cell_type": "code",
   "execution_count": 460,
   "id": "0a725a86",
   "metadata": {},
   "outputs": [
    {
     "data": {
      "text/html": [
       "<div>\n",
       "<style scoped>\n",
       "    .dataframe tbody tr th:only-of-type {\n",
       "        vertical-align: middle;\n",
       "    }\n",
       "\n",
       "    .dataframe tbody tr th {\n",
       "        vertical-align: top;\n",
       "    }\n",
       "\n",
       "    .dataframe thead th {\n",
       "        text-align: right;\n",
       "    }\n",
       "</style>\n",
       "<table border=\"1\" class=\"dataframe\">\n",
       "  <thead>\n",
       "    <tr style=\"text-align: right;\">\n",
       "      <th></th>\n",
       "      <th>DATE</th>\n",
       "      <th>GDP</th>\n",
       "      <th>M2</th>\n",
       "      <th>CPI</th>\n",
       "      <th>Int_rate</th>\n",
       "      <th>Unemp</th>\n",
       "    </tr>\n",
       "  </thead>\n",
       "  <tbody>\n",
       "    <tr>\n",
       "      <th>228</th>\n",
       "      <td>2016-01-04</td>\n",
       "      <td>0.5</td>\n",
       "      <td>1.8</td>\n",
       "      <td>0.6</td>\n",
       "      <td>0.0</td>\n",
       "      <td>-0.2</td>\n",
       "    </tr>\n",
       "    <tr>\n",
       "      <th>229</th>\n",
       "      <td>2016-01-07</td>\n",
       "      <td>-0.1</td>\n",
       "      <td>1.5</td>\n",
       "      <td>0.5</td>\n",
       "      <td>0.0</td>\n",
       "      <td>-0.2</td>\n",
       "    </tr>\n",
       "    <tr>\n",
       "      <th>230</th>\n",
       "      <td>2016-01-10</td>\n",
       "      <td>0.2</td>\n",
       "      <td>1.7</td>\n",
       "      <td>0.7</td>\n",
       "      <td>0.0</td>\n",
       "      <td>0.3</td>\n",
       "    </tr>\n",
       "    <tr>\n",
       "      <th>231</th>\n",
       "      <td>2017-01-01</td>\n",
       "      <td>0.0</td>\n",
       "      <td>1.3</td>\n",
       "      <td>0.8</td>\n",
       "      <td>0.3</td>\n",
       "      <td>-0.3</td>\n",
       "    </tr>\n",
       "  </tbody>\n",
       "</table>\n",
       "</div>"
      ],
      "text/plain": [
       "          DATE  GDP   M2  CPI  Int_rate  Unemp\n",
       "228 2016-01-04  0.5  1.8  0.6       0.0   -0.2\n",
       "229 2016-01-07 -0.1  1.5  0.5       0.0   -0.2\n",
       "230 2016-01-10  0.2  1.7  0.7       0.0    0.3\n",
       "231 2017-01-01  0.0  1.3  0.8       0.3   -0.3"
      ]
     },
     "execution_count": 460,
     "metadata": {},
     "output_type": "execute_result"
    }
   ],
   "source": [
    "data_training.tail(4) # since we want the next 10 quarters then I also need the last 10 quarters "
   ]
  },
  {
   "cell_type": "code",
   "execution_count": 461,
   "id": "1c4a3d28",
   "metadata": {},
   "outputs": [],
   "source": [
    "past_10_Q = data_training.tail(4)"
   ]
  },
  {
   "cell_type": "code",
   "execution_count": 462,
   "id": "de24bbd3",
   "metadata": {},
   "outputs": [
    {
     "name": "stderr",
     "output_type": "stream",
     "text": [
      "C:\\Users\\andre\\AppData\\Local\\Temp\\ipykernel_19224\\4011984473.py:1: FutureWarning: The frame.append method is deprecated and will be removed from pandas in a future version. Use pandas.concat instead.\n",
      "  df = past_10_Q.append(data_test, ignore_index=True)\n"
     ]
    },
    {
     "data": {
      "text/html": [
       "<div>\n",
       "<style scoped>\n",
       "    .dataframe tbody tr th:only-of-type {\n",
       "        vertical-align: middle;\n",
       "    }\n",
       "\n",
       "    .dataframe tbody tr th {\n",
       "        vertical-align: top;\n",
       "    }\n",
       "\n",
       "    .dataframe thead th {\n",
       "        text-align: right;\n",
       "    }\n",
       "</style>\n",
       "<table border=\"1\" class=\"dataframe\">\n",
       "  <thead>\n",
       "    <tr style=\"text-align: right;\">\n",
       "      <th></th>\n",
       "      <th>GDP</th>\n",
       "      <th>M2</th>\n",
       "      <th>CPI</th>\n",
       "      <th>Int_rate</th>\n",
       "      <th>Unemp</th>\n",
       "    </tr>\n",
       "  </thead>\n",
       "  <tbody>\n",
       "    <tr>\n",
       "      <th>0</th>\n",
       "      <td>0.5</td>\n",
       "      <td>1.8</td>\n",
       "      <td>0.6</td>\n",
       "      <td>0.0</td>\n",
       "      <td>-0.2</td>\n",
       "    </tr>\n",
       "    <tr>\n",
       "      <th>1</th>\n",
       "      <td>-0.1</td>\n",
       "      <td>1.5</td>\n",
       "      <td>0.5</td>\n",
       "      <td>0.0</td>\n",
       "      <td>-0.2</td>\n",
       "    </tr>\n",
       "    <tr>\n",
       "      <th>2</th>\n",
       "      <td>0.2</td>\n",
       "      <td>1.7</td>\n",
       "      <td>0.7</td>\n",
       "      <td>0.0</td>\n",
       "      <td>0.3</td>\n",
       "    </tr>\n",
       "    <tr>\n",
       "      <th>3</th>\n",
       "      <td>0.0</td>\n",
       "      <td>1.3</td>\n",
       "      <td>0.8</td>\n",
       "      <td>0.3</td>\n",
       "      <td>-0.3</td>\n",
       "    </tr>\n",
       "    <tr>\n",
       "      <th>4</th>\n",
       "      <td>-0.4</td>\n",
       "      <td>1.5</td>\n",
       "      <td>0.3</td>\n",
       "      <td>0.2</td>\n",
       "      <td>0.1</td>\n",
       "    </tr>\n",
       "  </tbody>\n",
       "</table>\n",
       "</div>"
      ],
      "text/plain": [
       "   GDP   M2  CPI  Int_rate  Unemp\n",
       "0  0.5  1.8  0.6       0.0   -0.2\n",
       "1 -0.1  1.5  0.5       0.0   -0.2\n",
       "2  0.2  1.7  0.7       0.0    0.3\n",
       "3  0.0  1.3  0.8       0.3   -0.3\n",
       "4 -0.4  1.5  0.3       0.2    0.1"
      ]
     },
     "execution_count": 462,
     "metadata": {},
     "output_type": "execute_result"
    }
   ],
   "source": [
    "df = past_10_Q.append(data_test, ignore_index=True)\n",
    "df = df.drop(['DATE'], axis = 1)\n",
    "df.head()"
   ]
  },
  {
   "cell_type": "code",
   "execution_count": 463,
   "id": "c6baab3c",
   "metadata": {},
   "outputs": [
    {
     "data": {
      "text/plain": [
       "array([[ 0.52      ,  0.4       ,  0.48333333,  0.50236967,  0.20689655],\n",
       "       [ 0.44      ,  0.34      ,  0.46666667,  0.50236967,  0.20689655],\n",
       "       [ 0.48      ,  0.38      ,  0.5       ,  0.50236967,  0.37931034],\n",
       "       [ 0.45333333,  0.3       ,  0.51666667,  0.57345972,  0.17241379],\n",
       "       [ 0.4       ,  0.34      ,  0.43333333,  0.54976303,  0.31034483],\n",
       "       [ 0.52      ,  0.24      ,  0.38333333,  0.57345972,  0.20689655],\n",
       "       [ 0.50666667,  0.26      ,  0.55      ,  0.50236967,  0.20689655],\n",
       "       [ 0.44      ,  0.16      ,  0.51666667,  0.54976303,  0.20689655],\n",
       "       [ 0.45333333,  0.22      ,  0.48333333,  0.57345972,  0.20689655],\n",
       "       [ 0.37333333,  0.28      ,  0.45      ,  0.54976303,  0.24137931],\n",
       "       [ 0.44      ,  0.16      ,  0.48333333,  0.57345972,  0.27586207],\n",
       "       [ 0.48      ,  0.32      ,  0.35      ,  0.54976303,  0.20689655],\n",
       "       [ 0.45333333,  0.22      ,  0.56666667,  0.50236967,  0.27586207],\n",
       "       [ 0.45333333,  0.46      ,  0.41666667,  0.50236967,  0.34482759],\n",
       "       [ 0.45333333,  0.42      ,  0.48333333,  0.33649289,  0.17241379],\n",
       "       [ 0.2       ,  0.38      ,  0.46666667,  0.50236967,  0.24137931],\n",
       "       [-0.69333333,  2.14      ,  0.21666667,  0.02843602,  0.27586207],\n",
       "       [ 2.85333333,  1.56      ,  0.53333333,  0.50236967,  0.24137931],\n",
       "       [-0.48      ,  0.5       ,  0.5       ,  0.50236967,  4.17241379]])"
      ]
     },
     "execution_count": 463,
     "metadata": {},
     "output_type": "execute_result"
    }
   ],
   "source": [
    "inputs = scaler.transform(df)\n",
    "inputs"
   ]
  },
  {
   "cell_type": "code",
   "execution_count": 464,
   "id": "49534f2c",
   "metadata": {},
   "outputs": [],
   "source": [
    "X_test = []\n",
    "y_test = []\n",
    "\n",
    "for i in range(4, inputs.shape[0]):\n",
    "    X_test.append(inputs[i-4:i])\n",
    "    y_test.append(inputs[i, 0])"
   ]
  },
  {
   "cell_type": "code",
   "execution_count": 465,
   "id": "c4510774",
   "metadata": {},
   "outputs": [
    {
     "data": {
      "text/plain": [
       "((15, 4, 5), (15,))"
      ]
     },
     "execution_count": 465,
     "metadata": {},
     "output_type": "execute_result"
    }
   ],
   "source": [
    "X_test, y_test = np.array(X_test), np.array(y_test)\n",
    "X_test.shape, y_test.shape"
   ]
  },
  {
   "cell_type": "code",
   "execution_count": 466,
   "id": "b1b9f82d",
   "metadata": {},
   "outputs": [
    {
     "name": "stdout",
     "output_type": "stream",
     "text": [
      "1/1 [==============================] - 0s 454ms/step\n"
     ]
    }
   ],
   "source": [
    "y_pred = reg.predict(X_test)"
   ]
  },
  {
   "cell_type": "code",
   "execution_count": 467,
   "id": "4e30b95f",
   "metadata": {},
   "outputs": [
    {
     "data": {
      "text/plain": [
       "(array([[0.41812867],\n",
       "        [0.41627955],\n",
       "        [0.41662002],\n",
       "        [0.4153509 ],\n",
       "        [0.4155505 ],\n",
       "        [0.4159138 ],\n",
       "        [0.4141975 ],\n",
       "        [0.41249558],\n",
       "        [0.41323727],\n",
       "        [0.4130333 ],\n",
       "        [0.4143067 ],\n",
       "        [0.41650724],\n",
       "        [0.41542763],\n",
       "        [0.41606873],\n",
       "        [0.41782832]], dtype=float32),\n",
       " array([ 0.4       ,  0.52      ,  0.50666667,  0.44      ,  0.45333333,\n",
       "         0.37333333,  0.44      ,  0.48      ,  0.45333333,  0.45333333,\n",
       "         0.45333333,  0.2       , -0.69333333,  2.85333333, -0.48      ]))"
      ]
     },
     "execution_count": 467,
     "metadata": {},
     "output_type": "execute_result"
    }
   ],
   "source": [
    "y_pred , y_test"
   ]
  },
  {
   "cell_type": "code",
   "execution_count": 468,
   "id": "08203b37",
   "metadata": {},
   "outputs": [],
   "source": [
    "# put y_pred = y_pred = np.array(y_pred)"
   ]
  },
  {
   "cell_type": "code",
   "execution_count": 469,
   "id": "2469fa5e",
   "metadata": {},
   "outputs": [
    {
     "data": {
      "text/plain": [
       "array([0.13333333, 0.2       , 0.16666667, 0.23696682, 0.34482759])"
      ]
     },
     "execution_count": 469,
     "metadata": {},
     "output_type": "execute_result"
    }
   ],
   "source": [
    "# we now need to converted the predicted values to its normal form\n",
    "scaler.scale_"
   ]
  },
  {
   "cell_type": "code",
   "execution_count": 470,
   "id": "7f138d38",
   "metadata": {},
   "outputs": [
    {
     "data": {
      "text/plain": [
       "7.500000187500005"
      ]
     },
     "execution_count": 470,
     "metadata": {},
     "output_type": "execute_result"
    }
   ],
   "source": [
    "scale = 1/0.13333333       \n",
    "scale"
   ]
  },
  {
   "cell_type": "code",
   "execution_count": 471,
   "id": "090063d3",
   "metadata": {},
   "outputs": [],
   "source": [
    "y_pred = y_pred*scale\n",
    "y_test = y_test*scale"
   ]
  },
  {
   "cell_type": "code",
   "execution_count": 472,
   "id": "248eb62e",
   "metadata": {},
   "outputs": [],
   "source": [
    "y_pred = np.asarray(y_pred)"
   ]
  },
  {
   "cell_type": "code",
   "execution_count": 473,
   "id": "92df3c49",
   "metadata": {},
   "outputs": [
    {
     "data": {
      "text/plain": [
       "2"
      ]
     },
     "execution_count": 473,
     "metadata": {},
     "output_type": "execute_result"
    }
   ],
   "source": [
    "y_pred.ndim"
   ]
  },
  {
   "cell_type": "code",
   "execution_count": 474,
   "id": "1d5382ff",
   "metadata": {},
   "outputs": [
    {
     "data": {
      "text/plain": [
       "15"
      ]
     },
     "execution_count": 474,
     "metadata": {},
     "output_type": "execute_result"
    }
   ],
   "source": [
    "y_pred.size # Adjust the size"
   ]
  },
  {
   "cell_type": "code",
   "execution_count": 475,
   "id": "da799952",
   "metadata": {},
   "outputs": [
    {
     "data": {
      "text/plain": [
       "(15, 1)"
      ]
     },
     "execution_count": 475,
     "metadata": {},
     "output_type": "execute_result"
    }
   ],
   "source": [
    "y_pred.shape"
   ]
  },
  {
   "cell_type": "code",
   "execution_count": 476,
   "id": "62239f23",
   "metadata": {},
   "outputs": [
    {
     "data": {
      "text/plain": [
       "dtype('float32')"
      ]
     },
     "execution_count": 476,
     "metadata": {},
     "output_type": "execute_result"
    }
   ],
   "source": [
    "y_pred.dtype"
   ]
  },
  {
   "cell_type": "code",
   "execution_count": 477,
   "id": "6f6c8501",
   "metadata": {},
   "outputs": [
    {
     "data": {
      "text/plain": [
       "15"
      ]
     },
     "execution_count": 477,
     "metadata": {},
     "output_type": "execute_result"
    }
   ],
   "source": [
    "y_test.size"
   ]
  },
  {
   "cell_type": "code",
   "execution_count": 638,
   "id": "daff526e",
   "metadata": {},
   "outputs": [],
   "source": [
    "#y_pred_1 = y_pred.flatten()"
   ]
  },
  {
   "cell_type": "code",
   "execution_count": 639,
   "id": "0f5c3b3e",
   "metadata": {},
   "outputs": [
    {
     "data": {
      "text/plain": [
       "1"
      ]
     },
     "execution_count": 639,
     "metadata": {},
     "output_type": "execute_result"
    }
   ],
   "source": [
    "#y_pred_1.ndim"
   ]
  },
  {
   "cell_type": "markdown",
   "id": "6191837a",
   "metadata": {},
   "source": [
    "## Visualisation"
   ]
  },
  {
   "cell_type": "code",
   "execution_count": 478,
   "id": "164155f5",
   "metadata": {
    "scrolled": true
   },
   "outputs": [
    {
     "data": {
      "image/png": "[encoded data removed]",
      "text/plain": [
       "<Figure size 1008x360 with 1 Axes>"
      ]
     },
     "metadata": {
      "needs_background": "light"
     },
     "output_type": "display_data"
    }
   ],
   "source": [
    "plt.figure(figsize=(14,5))\n",
    "plt.plot(y_test, color = 'red', label = 'GDP')\n",
    "plt.plot(y_pred, color = 'blue', label = 'Predicted GDP')\n",
    "plt.title('US GDP Prediction')\n",
    "plt.xlabel('Time')\n",
    "plt.ylabel('GDP')\n",
    "plt.legend()\n",
    "plt.show()"
   ]
  },
  {
   "cell_type": "code",
   "execution_count": null,
   "id": "5024e5f4",
   "metadata": {},
   "outputs": [],
   "source": []
  },
  {
   "cell_type": "code",
   "execution_count": null,
   "id": "1b156c9f",
   "metadata": {},
   "outputs": [],
   "source": []
  },
  {
   "cell_type": "code",
   "execution_count": null,
   "id": "ebd8b507",
   "metadata": {},
   "outputs": [],
   "source": []
  }
 ],
 "metadata": {
  "kernelspec": {
   "display_name": "Python 3 (ipykernel)",
   "language": "python",
   "name": "python3"
  },
  "language_info": {
   "codemirror_mode": {
    "name": "ipython",
    "version": 3
   },
   "file_extension": ".py",
   "mimetype": "text/x-python",
   "name": "python",
   "nbconvert_exporter": "python",
   "pygments_lexer": "ipython3",
   "version": "3.9.12"
  }
 },
 "nbformat": 4,
 "nbformat_minor": 5
}
